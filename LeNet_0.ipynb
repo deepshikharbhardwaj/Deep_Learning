{
  "nbformat": 4,
  "nbformat_minor": 0,
  "metadata": {
    "colab": {
      "name": "LeNet_0.ipynb",
      "provenance": [],
      "authorship_tag": "ABX9TyN4u/rS8wE8HeiR3HldIwAu",
      "include_colab_link": true
    },
    "kernelspec": {
      "name": "python3",
      "display_name": "Python 3"
    },
    "language_info": {
      "name": "python"
    }
  },
  "cells": [
    {
      "cell_type": "markdown",
      "metadata": {
        "id": "view-in-github",
        "colab_type": "text"
      },
      "source": [
        "<a href=\"https://colab.research.google.com/github/deepshikharbhardwaj/Deep_Learning/blob/main/LeNet_0.ipynb\" target=\"_parent\"><img src=\"https://colab.research.google.com/assets/colab-badge.svg\" alt=\"Open In Colab\"/></a>"
      ]
    },
    {
      "cell_type": "code",
      "metadata": {
        "id": "RL70TXriuAnw"
      },
      "source": [
        "import torch\n",
        "import torch.nn as nn\n",
        "import torch.nn.functional as F"
      ],
      "execution_count": 1,
      "outputs": []
    },
    {
      "cell_type": "code",
      "metadata": {
        "colab": {
          "base_uri": "https://localhost:8080/"
        },
        "id": "fFskvH3MveUf",
        "outputId": "9416d35e-1d25-43f7-bcea-e3c9c1facdad"
      },
      "source": [
        "class Net(nn.Module):\n",
        "    def __init__(self):\n",
        "        super(Net, self).__init__()\n",
        "        self.conv1 = nn.Conv2d(1, 6, (3, 3)) # (input image channel, output channels, kernel size)\n",
        "        self.conv2 = nn.Conv2d(6, 16, (3, 3))\n",
        "        # in linear layer (output channels from conv2d x width x height)\n",
        "        self.fc1 = nn.Linear(16 * 6 * 6, 120) # (in_features, out_features)\n",
        "        self.fc2 = nn.Linear(120, 84)\n",
        "        self.fc3 = nn.Linear(84, 10)\n",
        "    def forward(self, x):\n",
        "        x = F.max_pool2d(F.relu(self.conv1(x)), (2, 2))\n",
        "        x = F.max_pool2d(F.relu(self.conv2(x)), (2, 2))\n",
        "        x = x.view(x.size(0), -1)\n",
        "        x = F.relu(self.fc1(x))\n",
        "        x = F.relu(self.fc2(x))\n",
        "        x = self.fc3(x)\n",
        "        return x\n",
        "model = Net()\n",
        "print(model)"
      ],
      "execution_count": 2,
      "outputs": [
        {
          "output_type": "stream",
          "text": [
            "Net(\n",
            "  (conv1): Conv2d(1, 6, kernel_size=(3, 3), stride=(1, 1))\n",
            "  (conv2): Conv2d(6, 16, kernel_size=(3, 3), stride=(1, 1))\n",
            "  (fc1): Linear(in_features=576, out_features=120, bias=True)\n",
            "  (fc2): Linear(in_features=120, out_features=84, bias=True)\n",
            "  (fc3): Linear(in_features=84, out_features=10, bias=True)\n",
            ")\n"
          ],
          "name": "stdout"
        }
      ]
    },
    {
      "cell_type": "code",
      "metadata": {
        "id": "kRw2hC_lvgjI"
      },
      "source": [
        "# loss function and optimizer\n",
        "import torch.optim as optim\n",
        "\n",
        "loss_function = nn.MSELoss()\n",
        "optimizer = optim.RMSprop(model.parameters(), lr=0.001)"
      ],
      "execution_count": 3,
      "outputs": []
    },
    {
      "cell_type": "code",
      "metadata": {
        "colab": {
          "base_uri": "https://localhost:8080/"
        },
        "id": "6dedsZn_wabC",
        "outputId": "fdeea3ed-0ca8-4025-a4dc-74151e90dd6f"
      },
      "source": [
        "input = torch.rand(1, 1, 32, 32)\n",
        "out = model(input)\n",
        "print(out, out.shape)"
      ],
      "execution_count": 4,
      "outputs": [
        {
          "output_type": "stream",
          "text": [
            "tensor([[ 0.0550,  0.0661,  0.0784,  0.0164, -0.1281,  0.0716,  0.0061,  0.0857,\n",
            "          0.0491, -0.0996]], grad_fn=<AddmmBackward>) torch.Size([1, 10])\n"
          ],
          "name": "stdout"
        },
        {
          "output_type": "stream",
          "text": [
            "/usr/local/lib/python3.7/dist-packages/torch/nn/functional.py:718: UserWarning: Named tensors and all their associated APIs are an experimental feature and subject to change. Please do not use them for anything important until they are released as stable. (Triggered internally at  /pytorch/c10/core/TensorImpl.h:1156.)\n",
            "  return torch.max_pool2d(input, kernel_size, stride, padding, dilation, ceil_mode)\n"
          ],
          "name": "stderr"
        }
      ]
    },
    {
      "cell_type": "code",
      "metadata": {
        "colab": {
          "base_uri": "https://localhost:8080/"
        },
        "id": "dbw-toxawbpS",
        "outputId": "8c6dea36-e5a2-4ff6-d976-a07bde9f5549"
      },
      "source": [
        "# dummy targets\n",
        "labels = torch.rand(10)\n",
        "labels = labels.view(1, -1) # resize for the same shape as output\n",
        "print(labels, labels.shape)"
      ],
      "execution_count": 5,
      "outputs": [
        {
          "output_type": "stream",
          "text": [
            "tensor([[0.3283, 0.2887, 0.1241, 0.9522, 0.5317, 0.7420, 0.1011, 0.9701, 0.2310,\n",
            "         0.2235]]) torch.Size([1, 10])\n"
          ],
          "name": "stdout"
        }
      ]
    },
    {
      "cell_type": "code",
      "metadata": {
        "colab": {
          "base_uri": "https://localhost:8080/"
        },
        "id": "e_GLPEjgwdSn",
        "outputId": "17dbd314-c2a0-4a38-8120-15b56ad511c8"
      },
      "source": [
        "loss = loss_function(out, labels)\n",
        "loss.backward()\n",
        "print(loss)"
      ],
      "execution_count": 6,
      "outputs": [
        {
          "output_type": "stream",
          "text": [
            "tensor(0.2816, grad_fn=<MseLossBackward>)\n"
          ],
          "name": "stdout"
        }
      ]
    },
    {
      "cell_type": "code",
      "metadata": {
        "id": "pCWYNnIhwe3R"
      },
      "source": [
        ""
      ],
      "execution_count": null,
      "outputs": []
    }
  ]
}