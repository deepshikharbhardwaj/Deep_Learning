{
  "nbformat": 4,
  "nbformat_minor": 0,
  "metadata": {
    "colab": {
      "name": "7_Imbalanced_dataset.ipynb",
      "provenance": []
    },
    "kernelspec": {
      "name": "python3",
      "display_name": "Python 3"
    },
    "language_info": {
      "name": "python"
    },
    "accelerator": "GPU"
  },
  "cells": [
    {
      "cell_type": "markdown",
      "source": [
        "#Essential Library"
      ],
      "metadata": {
        "id": "PAkgUd-Dgsga"
      }
    },
    {
      "cell_type": "code",
      "source": [
        "import numpy as np\n",
        "import tensorflow as tf\n",
        "from tensorflow import keras\n",
        "import pandas as pd\n",
        "import matplotlib.pyplot as plt"
      ],
      "metadata": {
        "id": "7aRULVoQawaY"
      },
      "execution_count": null,
      "outputs": []
    },
    {
      "cell_type": "markdown",
      "source": [
        "#Imbalance Dataset handling"
      ],
      "metadata": {
        "id": "jLVMPgTiebWp"
      }
    },
    {
      "cell_type": "markdown",
      "source": [
        "##Undersampling"
      ],
      "metadata": {
        "id": "zDeRTISnC2eB"
      }
    },
    {
      "cell_type": "code",
      "source": [
        "count_class_0, count_class_1 = df2.Churn.value_counts()\n",
        "\n",
        "df_class_0 = df2[df2['Churn'] == 0]\n",
        "df_class_1 = df2[df2['Churn'] == 1]"
      ],
      "metadata": {
        "id": "ULmIQLCOdbfT"
      },
      "execution_count": null,
      "outputs": []
    },
    {
      "cell_type": "code",
      "source": [
        "count_class_0, count_class_1"
      ],
      "metadata": {
        "colab": {
          "base_uri": "https://localhost:8080/"
        },
        "id": "4y5mdu_EffrI",
        "outputId": "a8c822ad-3e59-448f-8043-bbd5acb3c546"
      },
      "execution_count": null,
      "outputs": [
        {
          "output_type": "execute_result",
          "data": {
            "text/plain": [
              "(5163, 1869)"
            ]
          },
          "metadata": {},
          "execution_count": 35
        }
      ]
    },
    {
      "cell_type": "code",
      "source": [
        "df_class_0.shape"
      ],
      "metadata": {
        "colab": {
          "base_uri": "https://localhost:8080/"
        },
        "id": "H8dTSgv4fjJ2",
        "outputId": "1cdfbc77-abc4-4ec8-9d1d-694014c3ec68"
      },
      "execution_count": null,
      "outputs": [
        {
          "output_type": "execute_result",
          "data": {
            "text/plain": [
              "(5163, 27)"
            ]
          },
          "metadata": {},
          "execution_count": 36
        }
      ]
    },
    {
      "cell_type": "code",
      "source": [
        "df_class_1.shape"
      ],
      "metadata": {
        "colab": {
          "base_uri": "https://localhost:8080/"
        },
        "id": "WcptkxO6f4jv",
        "outputId": "ff180285-aed5-4382-a027-873fe9f5b608"
      },
      "execution_count": null,
      "outputs": [
        {
          "output_type": "execute_result",
          "data": {
            "text/plain": [
              "(1869, 27)"
            ]
          },
          "metadata": {},
          "execution_count": 37
        }
      ]
    },
    {
      "cell_type": "code",
      "source": [
        "df_class_0_under = df_class_0.sample(count_class_1) #sample randomly samples the total of len passed into as parameter\n",
        "df_test_under = pd.concat([df_class_0_under, df_class_1], axis = 'rows') #adding more rows i.e. more records\n",
        "df_test_under.shape"
      ],
      "metadata": {
        "colab": {
          "base_uri": "https://localhost:8080/"
        },
        "id": "AGN34876f5qJ",
        "outputId": "bf052a1b-57a1-4afd-f789-962a35b17f2c"
      },
      "execution_count": null,
      "outputs": [
        {
          "output_type": "execute_result",
          "data": {
            "text/plain": [
              "(3738, 27)"
            ]
          },
          "metadata": {},
          "execution_count": 38
        }
      ]
    },
    {
      "cell_type": "code",
      "source": [
        "print('Random under sampling')\n",
        "df_test_under.Churn.value_counts()"
      ],
      "metadata": {
        "colab": {
          "base_uri": "https://localhost:8080/"
        },
        "id": "A_7K9lI3geWx",
        "outputId": "0d6a4683-ff9f-4844-bbdd-86461130c45e"
      },
      "execution_count": null,
      "outputs": [
        {
          "output_type": "stream",
          "name": "stdout",
          "text": [
            "Random under sampling\n"
          ]
        },
        {
          "output_type": "execute_result",
          "data": {
            "text/plain": [
              "1    1869\n",
              "0    1869\n",
              "Name: Churn, dtype: int64"
            ]
          },
          "metadata": {},
          "execution_count": 39
        }
      ]
    },
    {
      "cell_type": "code",
      "source": [
        "X = df_test_under.drop('Churn', axis = 'columns')\n",
        "y = df_test_under['Churn']"
      ],
      "metadata": {
        "id": "LcC-Wq4UhBY8"
      },
      "execution_count": null,
      "outputs": []
    },
    {
      "cell_type": "code",
      "source": [
        "from sklearn.model_selection import train_test_split\n",
        "X_train, X_test, y_train, y_test = train_test_split(X, y, test_size = 0.2, random_state = 5, stratify = y) #startify -> ensures for balanced data i.e. x train should not have data of 1 class and x test for another"
      ],
      "metadata": {
        "id": "NWcT_eTl_79o"
      },
      "execution_count": null,
      "outputs": []
    },
    {
      "cell_type": "code",
      "source": [
        "y_train.value_counts()"
      ],
      "metadata": {
        "colab": {
          "base_uri": "https://localhost:8080/"
        },
        "id": "7WmWaMIyAWfH",
        "outputId": "a65ad67b-224c-4f8f-bbb4-b8eaf371816c"
      },
      "execution_count": null,
      "outputs": [
        {
          "output_type": "execute_result",
          "data": {
            "text/plain": [
              "1    1495\n",
              "0    1495\n",
              "Name: Churn, dtype: int64"
            ]
          },
          "metadata": {},
          "execution_count": 46
        }
      ]
    },
    {
      "cell_type": "code",
      "source": [
        "import tensorflow as tf\n",
        "from tensorflow import keras\n",
        "\n",
        "def ANN(X_train, y_train, X_test, y_test, loss, weights):\n",
        "    model = keras.Sequential([\n",
        "                            keras.layers.Dense(20, input_shape = (26,), activation = 'relu'),\n",
        "                            keras.layers.Dense(10, activation = 'relu'),\n",
        "                            keras.layers.Dense(1, activation = 'sigmoid'),\n",
        "    ])\n",
        "\n",
        "    model.compile(optimizer = 'adam', loss = 'binary_crossentropy', metrics = ['accuracy'])\n",
        "\n",
        "    if weights == -1:\n",
        "        model.fit(X_train, y_train, epochs = 100)\n",
        "    else:\n",
        "        model.fit(X_train, y_train, epochs = 100, class_weights = weights)\n",
        "    \n",
        "    print(model.evaluate(X_test, y_test))\n",
        "\n",
        "    y_preds = model.predict(X_test)\n",
        "    y_preds = np.round(y_preds)\n",
        "    \n",
        "    print('Classification Report : \\n', classification_report(y_test, y_preds))\n",
        "\n",
        "    return y_preds"
      ],
      "metadata": {
        "id": "mSKBhHorBV_i"
      },
      "execution_count": null,
      "outputs": []
    },
    {
      "cell_type": "code",
      "source": [
        "y_preds = ANN(X_train, y_train, X_test, y_test, 'binary_crossentropy', -1)"
      ],
      "metadata": {
        "colab": {
          "base_uri": "https://localhost:8080/"
        },
        "id": "R4qp8P6IAcdF",
        "outputId": "ca72a12a-54a9-46f6-eb73-999145d2a4dd"
      },
      "execution_count": null,
      "outputs": [
        {
          "output_type": "stream",
          "name": "stdout",
          "text": [
            "Epoch 1/100\n",
            "94/94 [==============================] - 1s 4ms/step - loss: 0.6796 - accuracy: 0.5592\n",
            "Epoch 2/100\n",
            "94/94 [==============================] - 0s 4ms/step - loss: 0.5624 - accuracy: 0.7435\n",
            "Epoch 3/100\n",
            "94/94 [==============================] - 0s 4ms/step - loss: 0.5060 - accuracy: 0.7595\n",
            "Epoch 4/100\n",
            "94/94 [==============================] - 0s 5ms/step - loss: 0.4957 - accuracy: 0.7619\n",
            "Epoch 5/100\n",
            "94/94 [==============================] - 0s 4ms/step - loss: 0.4922 - accuracy: 0.7612\n",
            "Epoch 6/100\n",
            "94/94 [==============================] - 0s 4ms/step - loss: 0.4903 - accuracy: 0.7656\n",
            "Epoch 7/100\n",
            "94/94 [==============================] - 0s 4ms/step - loss: 0.4883 - accuracy: 0.7639\n",
            "Epoch 8/100\n",
            "94/94 [==============================] - 0s 4ms/step - loss: 0.4865 - accuracy: 0.7662\n",
            "Epoch 9/100\n",
            "94/94 [==============================] - 0s 4ms/step - loss: 0.4851 - accuracy: 0.7666\n",
            "Epoch 10/100\n",
            "94/94 [==============================] - 0s 4ms/step - loss: 0.4825 - accuracy: 0.7686\n",
            "Epoch 11/100\n",
            "94/94 [==============================] - 0s 4ms/step - loss: 0.4815 - accuracy: 0.7679\n",
            "Epoch 12/100\n",
            "94/94 [==============================] - 1s 5ms/step - loss: 0.4806 - accuracy: 0.7672\n",
            "Epoch 13/100\n",
            "94/94 [==============================] - 0s 4ms/step - loss: 0.4787 - accuracy: 0.7706\n",
            "Epoch 14/100\n",
            "94/94 [==============================] - 0s 3ms/step - loss: 0.4756 - accuracy: 0.7726\n",
            "Epoch 15/100\n",
            "94/94 [==============================] - 0s 3ms/step - loss: 0.4751 - accuracy: 0.7706\n",
            "Epoch 16/100\n",
            "94/94 [==============================] - 0s 3ms/step - loss: 0.4738 - accuracy: 0.7672\n",
            "Epoch 17/100\n",
            "94/94 [==============================] - 0s 3ms/step - loss: 0.4741 - accuracy: 0.7696\n",
            "Epoch 18/100\n",
            "94/94 [==============================] - 0s 3ms/step - loss: 0.4716 - accuracy: 0.7742\n",
            "Epoch 19/100\n",
            "94/94 [==============================] - 0s 3ms/step - loss: 0.4717 - accuracy: 0.7709\n",
            "Epoch 20/100\n",
            "94/94 [==============================] - 0s 3ms/step - loss: 0.4700 - accuracy: 0.7746\n",
            "Epoch 21/100\n",
            "94/94 [==============================] - 0s 3ms/step - loss: 0.4697 - accuracy: 0.7769\n",
            "Epoch 22/100\n",
            "94/94 [==============================] - 0s 3ms/step - loss: 0.4679 - accuracy: 0.7739\n",
            "Epoch 23/100\n",
            "94/94 [==============================] - 0s 3ms/step - loss: 0.4690 - accuracy: 0.7689\n",
            "Epoch 24/100\n",
            "94/94 [==============================] - 0s 3ms/step - loss: 0.4663 - accuracy: 0.7736\n",
            "Epoch 25/100\n",
            "94/94 [==============================] - 0s 3ms/step - loss: 0.4662 - accuracy: 0.7742\n",
            "Epoch 26/100\n",
            "94/94 [==============================] - 0s 3ms/step - loss: 0.4647 - accuracy: 0.7786\n",
            "Epoch 27/100\n",
            "94/94 [==============================] - 0s 3ms/step - loss: 0.4639 - accuracy: 0.7756\n",
            "Epoch 28/100\n",
            "94/94 [==============================] - 0s 3ms/step - loss: 0.4632 - accuracy: 0.7766\n",
            "Epoch 29/100\n",
            "94/94 [==============================] - 0s 3ms/step - loss: 0.4623 - accuracy: 0.7763\n",
            "Epoch 30/100\n",
            "94/94 [==============================] - 0s 3ms/step - loss: 0.4610 - accuracy: 0.7806\n",
            "Epoch 31/100\n",
            "94/94 [==============================] - 0s 3ms/step - loss: 0.4602 - accuracy: 0.7749\n",
            "Epoch 32/100\n",
            "94/94 [==============================] - 0s 3ms/step - loss: 0.4601 - accuracy: 0.7789\n",
            "Epoch 33/100\n",
            "94/94 [==============================] - 0s 3ms/step - loss: 0.4597 - accuracy: 0.7759\n",
            "Epoch 34/100\n",
            "94/94 [==============================] - 0s 3ms/step - loss: 0.4591 - accuracy: 0.7793\n",
            "Epoch 35/100\n",
            "94/94 [==============================] - 0s 3ms/step - loss: 0.4587 - accuracy: 0.7786\n",
            "Epoch 36/100\n",
            "94/94 [==============================] - 0s 3ms/step - loss: 0.4577 - accuracy: 0.7756\n",
            "Epoch 37/100\n",
            "94/94 [==============================] - 0s 3ms/step - loss: 0.4570 - accuracy: 0.7796\n",
            "Epoch 38/100\n",
            "94/94 [==============================] - 0s 3ms/step - loss: 0.4562 - accuracy: 0.7809\n",
            "Epoch 39/100\n",
            "94/94 [==============================] - 0s 3ms/step - loss: 0.4559 - accuracy: 0.7783\n",
            "Epoch 40/100\n",
            "94/94 [==============================] - 0s 3ms/step - loss: 0.4559 - accuracy: 0.7769\n",
            "Epoch 41/100\n",
            "94/94 [==============================] - 0s 3ms/step - loss: 0.4537 - accuracy: 0.7819\n",
            "Epoch 42/100\n",
            "94/94 [==============================] - 0s 3ms/step - loss: 0.4538 - accuracy: 0.7843\n",
            "Epoch 43/100\n",
            "94/94 [==============================] - 0s 3ms/step - loss: 0.4547 - accuracy: 0.7806\n",
            "Epoch 44/100\n",
            "94/94 [==============================] - 0s 3ms/step - loss: 0.4529 - accuracy: 0.7819\n",
            "Epoch 45/100\n",
            "94/94 [==============================] - 0s 3ms/step - loss: 0.4544 - accuracy: 0.7826\n",
            "Epoch 46/100\n",
            "94/94 [==============================] - 0s 3ms/step - loss: 0.4519 - accuracy: 0.7856\n",
            "Epoch 47/100\n",
            "94/94 [==============================] - 0s 3ms/step - loss: 0.4495 - accuracy: 0.7866\n",
            "Epoch 48/100\n",
            "94/94 [==============================] - 0s 3ms/step - loss: 0.4500 - accuracy: 0.7826\n",
            "Epoch 49/100\n",
            "94/94 [==============================] - 0s 3ms/step - loss: 0.4480 - accuracy: 0.7843\n",
            "Epoch 50/100\n",
            "94/94 [==============================] - 0s 3ms/step - loss: 0.4495 - accuracy: 0.7870\n",
            "Epoch 51/100\n",
            "94/94 [==============================] - 0s 3ms/step - loss: 0.4470 - accuracy: 0.7860\n",
            "Epoch 52/100\n",
            "94/94 [==============================] - 0s 3ms/step - loss: 0.4473 - accuracy: 0.7870\n",
            "Epoch 53/100\n",
            "94/94 [==============================] - 0s 3ms/step - loss: 0.4470 - accuracy: 0.7853\n",
            "Epoch 54/100\n",
            "94/94 [==============================] - 0s 3ms/step - loss: 0.4456 - accuracy: 0.7910\n",
            "Epoch 55/100\n",
            "94/94 [==============================] - 0s 3ms/step - loss: 0.4454 - accuracy: 0.7876\n",
            "Epoch 56/100\n",
            "94/94 [==============================] - 0s 3ms/step - loss: 0.4437 - accuracy: 0.7876\n",
            "Epoch 57/100\n",
            "94/94 [==============================] - 0s 3ms/step - loss: 0.4436 - accuracy: 0.7880\n",
            "Epoch 58/100\n",
            "94/94 [==============================] - 0s 3ms/step - loss: 0.4439 - accuracy: 0.7900\n",
            "Epoch 59/100\n",
            "94/94 [==============================] - 0s 3ms/step - loss: 0.4430 - accuracy: 0.7890\n",
            "Epoch 60/100\n",
            "94/94 [==============================] - 0s 3ms/step - loss: 0.4430 - accuracy: 0.7886\n",
            "Epoch 61/100\n",
            "94/94 [==============================] - 0s 3ms/step - loss: 0.4421 - accuracy: 0.7903\n",
            "Epoch 62/100\n",
            "94/94 [==============================] - 0s 3ms/step - loss: 0.4407 - accuracy: 0.7923\n",
            "Epoch 63/100\n",
            "94/94 [==============================] - 0s 3ms/step - loss: 0.4430 - accuracy: 0.7896\n",
            "Epoch 64/100\n",
            "94/94 [==============================] - 0s 3ms/step - loss: 0.4400 - accuracy: 0.7936\n",
            "Epoch 65/100\n",
            "94/94 [==============================] - 0s 3ms/step - loss: 0.4391 - accuracy: 0.7957\n",
            "Epoch 66/100\n",
            "94/94 [==============================] - 0s 3ms/step - loss: 0.4382 - accuracy: 0.7970\n",
            "Epoch 67/100\n",
            "94/94 [==============================] - 0s 3ms/step - loss: 0.4380 - accuracy: 0.7943\n",
            "Epoch 68/100\n",
            "94/94 [==============================] - 0s 3ms/step - loss: 0.4371 - accuracy: 0.7946\n",
            "Epoch 69/100\n",
            "94/94 [==============================] - 0s 3ms/step - loss: 0.4368 - accuracy: 0.7933\n",
            "Epoch 70/100\n",
            "94/94 [==============================] - 0s 3ms/step - loss: 0.4382 - accuracy: 0.7950\n",
            "Epoch 71/100\n",
            "94/94 [==============================] - 0s 3ms/step - loss: 0.4359 - accuracy: 0.7950\n",
            "Epoch 72/100\n",
            "94/94 [==============================] - 0s 3ms/step - loss: 0.4368 - accuracy: 0.7933\n",
            "Epoch 73/100\n",
            "94/94 [==============================] - 0s 3ms/step - loss: 0.4347 - accuracy: 0.8000\n",
            "Epoch 74/100\n",
            "94/94 [==============================] - 0s 3ms/step - loss: 0.4347 - accuracy: 0.7920\n",
            "Epoch 75/100\n",
            "94/94 [==============================] - 0s 3ms/step - loss: 0.4353 - accuracy: 0.7967\n",
            "Epoch 76/100\n",
            "94/94 [==============================] - 0s 3ms/step - loss: 0.4345 - accuracy: 0.7950\n",
            "Epoch 77/100\n",
            "94/94 [==============================] - 0s 3ms/step - loss: 0.4325 - accuracy: 0.7950\n",
            "Epoch 78/100\n",
            "94/94 [==============================] - 0s 3ms/step - loss: 0.4325 - accuracy: 0.7957\n",
            "Epoch 79/100\n",
            "94/94 [==============================] - 0s 3ms/step - loss: 0.4315 - accuracy: 0.7973\n",
            "Epoch 80/100\n",
            "94/94 [==============================] - 0s 3ms/step - loss: 0.4328 - accuracy: 0.7983\n",
            "Epoch 81/100\n",
            "94/94 [==============================] - 0s 3ms/step - loss: 0.4314 - accuracy: 0.7970\n",
            "Epoch 82/100\n",
            "94/94 [==============================] - 0s 3ms/step - loss: 0.4306 - accuracy: 0.8000\n",
            "Epoch 83/100\n",
            "94/94 [==============================] - 0s 3ms/step - loss: 0.4298 - accuracy: 0.8043\n",
            "Epoch 84/100\n",
            "94/94 [==============================] - 0s 3ms/step - loss: 0.4313 - accuracy: 0.8000\n",
            "Epoch 85/100\n",
            "94/94 [==============================] - 0s 3ms/step - loss: 0.4281 - accuracy: 0.8013\n",
            "Epoch 86/100\n",
            "94/94 [==============================] - 0s 3ms/step - loss: 0.4277 - accuracy: 0.8010\n",
            "Epoch 87/100\n",
            "94/94 [==============================] - 0s 3ms/step - loss: 0.4280 - accuracy: 0.8013\n",
            "Epoch 88/100\n",
            "94/94 [==============================] - 0s 3ms/step - loss: 0.4280 - accuracy: 0.8017\n",
            "Epoch 89/100\n",
            "94/94 [==============================] - 0s 3ms/step - loss: 0.4274 - accuracy: 0.8013\n",
            "Epoch 90/100\n",
            "94/94 [==============================] - 0s 3ms/step - loss: 0.4250 - accuracy: 0.8030\n",
            "Epoch 91/100\n",
            "94/94 [==============================] - 0s 3ms/step - loss: 0.4263 - accuracy: 0.8037\n",
            "Epoch 92/100\n",
            "94/94 [==============================] - 0s 3ms/step - loss: 0.4254 - accuracy: 0.8003\n",
            "Epoch 93/100\n",
            "94/94 [==============================] - 0s 3ms/step - loss: 0.4256 - accuracy: 0.8000\n",
            "Epoch 94/100\n",
            "94/94 [==============================] - 0s 3ms/step - loss: 0.4236 - accuracy: 0.8057\n",
            "Epoch 95/100\n",
            "94/94 [==============================] - 0s 3ms/step - loss: 0.4238 - accuracy: 0.8040\n",
            "Epoch 96/100\n",
            "94/94 [==============================] - 0s 3ms/step - loss: 0.4228 - accuracy: 0.8023\n",
            "Epoch 97/100\n",
            "94/94 [==============================] - 0s 3ms/step - loss: 0.4231 - accuracy: 0.8017\n",
            "Epoch 98/100\n",
            "94/94 [==============================] - 0s 3ms/step - loss: 0.4220 - accuracy: 0.8027\n",
            "Epoch 99/100\n",
            "94/94 [==============================] - 0s 3ms/step - loss: 0.4230 - accuracy: 0.8007\n",
            "Epoch 100/100\n",
            "94/94 [==============================] - 0s 3ms/step - loss: 0.4230 - accuracy: 0.8077\n",
            "24/24 [==============================] - 0s 2ms/step - loss: 0.5280 - accuracy: 0.7527\n",
            "[0.5279548168182373, 0.7526738047599792]\n",
            "Classification Report : \n",
            "               precision    recall  f1-score   support\n",
            "\n",
            "           0       0.82      0.65      0.72       374\n",
            "           1       0.71      0.86      0.78       374\n",
            "\n",
            "    accuracy                           0.75       748\n",
            "   macro avg       0.76      0.75      0.75       748\n",
            "weighted avg       0.76      0.75      0.75       748\n",
            "\n"
          ]
        }
      ]
    },
    {
      "cell_type": "markdown",
      "source": [
        "##Oversampling"
      ],
      "metadata": {
        "id": "VI5hMZ2uC5XP"
      }
    },
    {
      "cell_type": "code",
      "source": [
        "count_class_0, count_class_1"
      ],
      "metadata": {
        "colab": {
          "base_uri": "https://localhost:8080/"
        },
        "id": "HewXUCu6Cccy",
        "outputId": "67bff694-28b0-48da-d19a-ab36c2d9f134"
      },
      "execution_count": null,
      "outputs": [
        {
          "output_type": "execute_result",
          "data": {
            "text/plain": [
              "(5163, 1869)"
            ]
          },
          "metadata": {},
          "execution_count": 49
        }
      ]
    },
    {
      "cell_type": "code",
      "source": [
        "df_class_1.sample(5)"
      ],
      "metadata": {
        "colab": {
          "base_uri": "https://localhost:8080/",
          "height": 305
        },
        "id": "ZW52STymC-In",
        "outputId": "733f3413-e3f6-42e0-9135-d301c9e070fa"
      },
      "execution_count": null,
      "outputs": [
        {
          "output_type": "execute_result",
          "data": {
            "text/html": [
              "\n",
              "  <div id=\"df-4e0cae59-b45f-41b2-b127-0d895932bded\">\n",
              "    <div class=\"colab-df-container\">\n",
              "      <div>\n",
              "<style scoped>\n",
              "    .dataframe tbody tr th:only-of-type {\n",
              "        vertical-align: middle;\n",
              "    }\n",
              "\n",
              "    .dataframe tbody tr th {\n",
              "        vertical-align: top;\n",
              "    }\n",
              "\n",
              "    .dataframe thead th {\n",
              "        text-align: right;\n",
              "    }\n",
              "</style>\n",
              "<table border=\"1\" class=\"dataframe\">\n",
              "  <thead>\n",
              "    <tr style=\"text-align: right;\">\n",
              "      <th></th>\n",
              "      <th>gender</th>\n",
              "      <th>SeniorCitizen</th>\n",
              "      <th>Partner</th>\n",
              "      <th>Dependents</th>\n",
              "      <th>tenure</th>\n",
              "      <th>PhoneService</th>\n",
              "      <th>MultipleLines</th>\n",
              "      <th>OnlineSecurity</th>\n",
              "      <th>OnlineBackup</th>\n",
              "      <th>DeviceProtection</th>\n",
              "      <th>TechSupport</th>\n",
              "      <th>StreamingTV</th>\n",
              "      <th>StreamingMovies</th>\n",
              "      <th>PaperlessBilling</th>\n",
              "      <th>MonthlyCharges</th>\n",
              "      <th>TotalCharges</th>\n",
              "      <th>Churn</th>\n",
              "      <th>InternetService_DSL</th>\n",
              "      <th>InternetService_Fiber optic</th>\n",
              "      <th>InternetService_No</th>\n",
              "      <th>Contract_Month-to-month</th>\n",
              "      <th>Contract_One year</th>\n",
              "      <th>Contract_Two year</th>\n",
              "      <th>PaymentMethod_Bank transfer (automatic)</th>\n",
              "      <th>PaymentMethod_Credit card (automatic)</th>\n",
              "      <th>PaymentMethod_Electronic check</th>\n",
              "      <th>PaymentMethod_Mailed check</th>\n",
              "    </tr>\n",
              "  </thead>\n",
              "  <tbody>\n",
              "    <tr>\n",
              "      <th>3834</th>\n",
              "      <td>1</td>\n",
              "      <td>0</td>\n",
              "      <td>1</td>\n",
              "      <td>1</td>\n",
              "      <td>0.788732</td>\n",
              "      <td>1</td>\n",
              "      <td>0</td>\n",
              "      <td>1</td>\n",
              "      <td>0</td>\n",
              "      <td>0</td>\n",
              "      <td>0</td>\n",
              "      <td>1</td>\n",
              "      <td>1</td>\n",
              "      <td>1</td>\n",
              "      <td>0.515920</td>\n",
              "      <td>0.449400</td>\n",
              "      <td>1</td>\n",
              "      <td>1</td>\n",
              "      <td>0</td>\n",
              "      <td>0</td>\n",
              "      <td>0</td>\n",
              "      <td>1</td>\n",
              "      <td>0</td>\n",
              "      <td>1</td>\n",
              "      <td>0</td>\n",
              "      <td>0</td>\n",
              "      <td>0</td>\n",
              "    </tr>\n",
              "    <tr>\n",
              "      <th>5653</th>\n",
              "      <td>1</td>\n",
              "      <td>0</td>\n",
              "      <td>0</td>\n",
              "      <td>0</td>\n",
              "      <td>0.084507</td>\n",
              "      <td>1</td>\n",
              "      <td>0</td>\n",
              "      <td>0</td>\n",
              "      <td>0</td>\n",
              "      <td>0</td>\n",
              "      <td>0</td>\n",
              "      <td>1</td>\n",
              "      <td>0</td>\n",
              "      <td>1</td>\n",
              "      <td>0.604478</td>\n",
              "      <td>0.058176</td>\n",
              "      <td>1</td>\n",
              "      <td>0</td>\n",
              "      <td>1</td>\n",
              "      <td>0</td>\n",
              "      <td>1</td>\n",
              "      <td>0</td>\n",
              "      <td>0</td>\n",
              "      <td>0</td>\n",
              "      <td>0</td>\n",
              "      <td>1</td>\n",
              "      <td>0</td>\n",
              "    </tr>\n",
              "    <tr>\n",
              "      <th>3271</th>\n",
              "      <td>0</td>\n",
              "      <td>1</td>\n",
              "      <td>1</td>\n",
              "      <td>0</td>\n",
              "      <td>0.154930</td>\n",
              "      <td>1</td>\n",
              "      <td>1</td>\n",
              "      <td>0</td>\n",
              "      <td>1</td>\n",
              "      <td>0</td>\n",
              "      <td>0</td>\n",
              "      <td>1</td>\n",
              "      <td>1</td>\n",
              "      <td>1</td>\n",
              "      <td>0.826866</td>\n",
              "      <td>0.138443</td>\n",
              "      <td>1</td>\n",
              "      <td>0</td>\n",
              "      <td>1</td>\n",
              "      <td>0</td>\n",
              "      <td>1</td>\n",
              "      <td>0</td>\n",
              "      <td>0</td>\n",
              "      <td>0</td>\n",
              "      <td>0</td>\n",
              "      <td>1</td>\n",
              "      <td>0</td>\n",
              "    </tr>\n",
              "    <tr>\n",
              "      <th>3185</th>\n",
              "      <td>1</td>\n",
              "      <td>1</td>\n",
              "      <td>0</td>\n",
              "      <td>0</td>\n",
              "      <td>0.000000</td>\n",
              "      <td>0</td>\n",
              "      <td>0</td>\n",
              "      <td>0</td>\n",
              "      <td>0</td>\n",
              "      <td>0</td>\n",
              "      <td>0</td>\n",
              "      <td>0</td>\n",
              "      <td>0</td>\n",
              "      <td>0</td>\n",
              "      <td>0.067662</td>\n",
              "      <td>0.000721</td>\n",
              "      <td>1</td>\n",
              "      <td>1</td>\n",
              "      <td>0</td>\n",
              "      <td>0</td>\n",
              "      <td>1</td>\n",
              "      <td>0</td>\n",
              "      <td>0</td>\n",
              "      <td>0</td>\n",
              "      <td>0</td>\n",
              "      <td>0</td>\n",
              "      <td>1</td>\n",
              "    </tr>\n",
              "    <tr>\n",
              "      <th>1341</th>\n",
              "      <td>0</td>\n",
              "      <td>0</td>\n",
              "      <td>0</td>\n",
              "      <td>1</td>\n",
              "      <td>0.028169</td>\n",
              "      <td>1</td>\n",
              "      <td>0</td>\n",
              "      <td>0</td>\n",
              "      <td>0</td>\n",
              "      <td>0</td>\n",
              "      <td>0</td>\n",
              "      <td>1</td>\n",
              "      <td>0</td>\n",
              "      <td>1</td>\n",
              "      <td>0.362687</td>\n",
              "      <td>0.017384</td>\n",
              "      <td>1</td>\n",
              "      <td>1</td>\n",
              "      <td>0</td>\n",
              "      <td>0</td>\n",
              "      <td>1</td>\n",
              "      <td>0</td>\n",
              "      <td>0</td>\n",
              "      <td>0</td>\n",
              "      <td>1</td>\n",
              "      <td>0</td>\n",
              "      <td>0</td>\n",
              "    </tr>\n",
              "  </tbody>\n",
              "</table>\n",
              "</div>\n",
              "      <button class=\"colab-df-convert\" onclick=\"convertToInteractive('df-4e0cae59-b45f-41b2-b127-0d895932bded')\"\n",
              "              title=\"Convert this dataframe to an interactive table.\"\n",
              "              style=\"display:none;\">\n",
              "        \n",
              "  <svg xmlns=\"http://www.w3.org/2000/svg\" height=\"24px\"viewBox=\"0 0 24 24\"\n",
              "       width=\"24px\">\n",
              "    <path d=\"M0 0h24v24H0V0z\" fill=\"none\"/>\n",
              "    <path d=\"M18.56 5.44l.94 2.06.94-2.06 2.06-.94-2.06-.94-.94-2.06-.94 2.06-2.06.94zm-11 1L8.5 8.5l.94-2.06 2.06-.94-2.06-.94L8.5 2.5l-.94 2.06-2.06.94zm10 10l.94 2.06.94-2.06 2.06-.94-2.06-.94-.94-2.06-.94 2.06-2.06.94z\"/><path d=\"M17.41 7.96l-1.37-1.37c-.4-.4-.92-.59-1.43-.59-.52 0-1.04.2-1.43.59L10.3 9.45l-7.72 7.72c-.78.78-.78 2.05 0 2.83L4 21.41c.39.39.9.59 1.41.59.51 0 1.02-.2 1.41-.59l7.78-7.78 2.81-2.81c.8-.78.8-2.07 0-2.86zM5.41 20L4 18.59l7.72-7.72 1.47 1.35L5.41 20z\"/>\n",
              "  </svg>\n",
              "      </button>\n",
              "      \n",
              "  <style>\n",
              "    .colab-df-container {\n",
              "      display:flex;\n",
              "      flex-wrap:wrap;\n",
              "      gap: 12px;\n",
              "    }\n",
              "\n",
              "    .colab-df-convert {\n",
              "      background-color: #E8F0FE;\n",
              "      border: none;\n",
              "      border-radius: 50%;\n",
              "      cursor: pointer;\n",
              "      display: none;\n",
              "      fill: #1967D2;\n",
              "      height: 32px;\n",
              "      padding: 0 0 0 0;\n",
              "      width: 32px;\n",
              "    }\n",
              "\n",
              "    .colab-df-convert:hover {\n",
              "      background-color: #E2EBFA;\n",
              "      box-shadow: 0px 1px 2px rgba(60, 64, 67, 0.3), 0px 1px 3px 1px rgba(60, 64, 67, 0.15);\n",
              "      fill: #174EA6;\n",
              "    }\n",
              "\n",
              "    [theme=dark] .colab-df-convert {\n",
              "      background-color: #3B4455;\n",
              "      fill: #D2E3FC;\n",
              "    }\n",
              "\n",
              "    [theme=dark] .colab-df-convert:hover {\n",
              "      background-color: #434B5C;\n",
              "      box-shadow: 0px 1px 3px 1px rgba(0, 0, 0, 0.15);\n",
              "      filter: drop-shadow(0px 1px 2px rgba(0, 0, 0, 0.3));\n",
              "      fill: #FFFFFF;\n",
              "    }\n",
              "  </style>\n",
              "\n",
              "      <script>\n",
              "        const buttonEl =\n",
              "          document.querySelector('#df-4e0cae59-b45f-41b2-b127-0d895932bded button.colab-df-convert');\n",
              "        buttonEl.style.display =\n",
              "          google.colab.kernel.accessAllowed ? 'block' : 'none';\n",
              "\n",
              "        async function convertToInteractive(key) {\n",
              "          const element = document.querySelector('#df-4e0cae59-b45f-41b2-b127-0d895932bded');\n",
              "          const dataTable =\n",
              "            await google.colab.kernel.invokeFunction('convertToInteractive',\n",
              "                                                     [key], {});\n",
              "          if (!dataTable) return;\n",
              "\n",
              "          const docLinkHtml = 'Like what you see? Visit the ' +\n",
              "            '<a target=\"_blank\" href=https://colab.research.google.com/notebooks/data_table.ipynb>data table notebook</a>'\n",
              "            + ' to learn more about interactive tables.';\n",
              "          element.innerHTML = '';\n",
              "          dataTable['output_type'] = 'display_data';\n",
              "          await google.colab.output.renderOutput(dataTable, element);\n",
              "          const docLink = document.createElement('div');\n",
              "          docLink.innerHTML = docLinkHtml;\n",
              "          element.appendChild(docLink);\n",
              "        }\n",
              "      </script>\n",
              "    </div>\n",
              "  </div>\n",
              "  "
            ],
            "text/plain": [
              "      gender  ...  PaymentMethod_Mailed check\n",
              "3834       1  ...                           0\n",
              "5653       1  ...                           0\n",
              "3271       0  ...                           0\n",
              "3185       1  ...                           1\n",
              "1341       0  ...                           0\n",
              "\n",
              "[5 rows x 27 columns]"
            ]
          },
          "metadata": {},
          "execution_count": 50
        }
      ]
    },
    {
      "cell_type": "code",
      "source": [
        "print(df_class_0.shape, df_class_1.shape)\n",
        "\n",
        "df_class_1_over = df_class_1.sample(count_class_0, replace = True)\n",
        "\n",
        "print(df_class_1_over.shape)\n",
        "\n",
        "df_test_over = pd.concat([df_class_0, df_class_1_over], axis = 'rows')\n",
        "print(df_test_over.shape)"
      ],
      "metadata": {
        "colab": {
          "base_uri": "https://localhost:8080/"
        },
        "id": "Vga5jDf9DCVY",
        "outputId": "0d827dce-0d2b-4705-d294-6ebc58b13fc5"
      },
      "execution_count": null,
      "outputs": [
        {
          "output_type": "stream",
          "name": "stdout",
          "text": [
            "(5163, 27) (1869, 27)\n",
            "(5163, 27)\n",
            "(10326, 27)\n"
          ]
        }
      ]
    },
    {
      "cell_type": "code",
      "source": [
        "print(df_test_over.Churn.value_counts())"
      ],
      "metadata": {
        "colab": {
          "base_uri": "https://localhost:8080/"
        },
        "id": "MjUdnpD0DylS",
        "outputId": "3ab4b4c3-c4cb-4333-9155-59e084afe442"
      },
      "execution_count": null,
      "outputs": [
        {
          "output_type": "stream",
          "name": "stdout",
          "text": [
            "1    5163\n",
            "0    5163\n",
            "Name: Churn, dtype: int64\n"
          ]
        }
      ]
    },
    {
      "cell_type": "code",
      "source": [
        "X = df_test_over.drop('Churn', axis = 'columns')\n",
        "y = df_test_over['Churn']\n",
        "\n",
        "from sklearn.model_selection import train_test_split\n",
        "X_train, X_test, y_train, y_test = train_test_split(X, y, test_size = 0.2, random_state = 5, stratify = y) #startify -> ensures for balanced data i.e. x train should not have data of 1 class and x test for another"
      ],
      "metadata": {
        "id": "lsCViRjfECE0"
      },
      "execution_count": null,
      "outputs": []
    },
    {
      "cell_type": "code",
      "source": [
        "y_train.value_counts()"
      ],
      "metadata": {
        "colab": {
          "base_uri": "https://localhost:8080/"
        },
        "id": "ABlyKqcHEVhe",
        "outputId": "478baa0e-0ff8-4774-e76d-fd1120b76fc3"
      },
      "execution_count": null,
      "outputs": [
        {
          "output_type": "execute_result",
          "data": {
            "text/plain": [
              "1    4130\n",
              "0    4130\n",
              "Name: Churn, dtype: int64"
            ]
          },
          "metadata": {},
          "execution_count": 55
        }
      ]
    },
    {
      "cell_type": "code",
      "source": [
        "y_preds = ANN(X_train, y_train, X_test, y_test, 'binary_crossentropy', -1)"
      ],
      "metadata": {
        "colab": {
          "base_uri": "https://localhost:8080/"
        },
        "id": "WYnAHUNaEaCu",
        "outputId": "a1626887-461c-47c4-d1fe-a1c692f8fa74"
      },
      "execution_count": null,
      "outputs": [
        {
          "output_type": "stream",
          "name": "stdout",
          "text": [
            "Epoch 1/100\n",
            "259/259 [==============================] - 2s 4ms/step - loss: 0.5480 - accuracy: 0.7293\n",
            "Epoch 2/100\n",
            "259/259 [==============================] - 1s 4ms/step - loss: 0.5004 - accuracy: 0.7604\n",
            "Epoch 3/100\n",
            "259/259 [==============================] - 1s 4ms/step - loss: 0.4912 - accuracy: 0.7677\n",
            "Epoch 4/100\n",
            "259/259 [==============================] - 1s 4ms/step - loss: 0.4854 - accuracy: 0.7702\n",
            "Epoch 5/100\n",
            "259/259 [==============================] - 1s 3ms/step - loss: 0.4817 - accuracy: 0.7734\n",
            "Epoch 6/100\n",
            "259/259 [==============================] - 1s 3ms/step - loss: 0.4784 - accuracy: 0.7735\n",
            "Epoch 7/100\n",
            "259/259 [==============================] - 1s 3ms/step - loss: 0.4760 - accuracy: 0.7765\n",
            "Epoch 8/100\n",
            "259/259 [==============================] - 1s 3ms/step - loss: 0.4745 - accuracy: 0.7758\n",
            "Epoch 9/100\n",
            "259/259 [==============================] - 1s 3ms/step - loss: 0.4714 - accuracy: 0.7742\n",
            "Epoch 10/100\n",
            "259/259 [==============================] - 1s 3ms/step - loss: 0.4703 - accuracy: 0.7774\n",
            "Epoch 11/100\n",
            "259/259 [==============================] - 1s 3ms/step - loss: 0.4689 - accuracy: 0.7778\n",
            "Epoch 12/100\n",
            "259/259 [==============================] - 1s 3ms/step - loss: 0.4670 - accuracy: 0.7766\n",
            "Epoch 13/100\n",
            "259/259 [==============================] - 1s 3ms/step - loss: 0.4659 - accuracy: 0.7755\n",
            "Epoch 14/100\n",
            "259/259 [==============================] - 1s 3ms/step - loss: 0.4627 - accuracy: 0.7786\n",
            "Epoch 15/100\n",
            "259/259 [==============================] - 1s 3ms/step - loss: 0.4611 - accuracy: 0.7751\n",
            "Epoch 16/100\n",
            "259/259 [==============================] - 1s 3ms/step - loss: 0.4599 - accuracy: 0.7772\n",
            "Epoch 17/100\n",
            "259/259 [==============================] - 1s 3ms/step - loss: 0.4585 - accuracy: 0.7798\n",
            "Epoch 18/100\n",
            "259/259 [==============================] - 1s 3ms/step - loss: 0.4572 - accuracy: 0.7800\n",
            "Epoch 19/100\n",
            "259/259 [==============================] - 1s 3ms/step - loss: 0.4548 - accuracy: 0.7783\n",
            "Epoch 20/100\n",
            "259/259 [==============================] - 1s 3ms/step - loss: 0.4544 - accuracy: 0.7786\n",
            "Epoch 21/100\n",
            "259/259 [==============================] - 1s 3ms/step - loss: 0.4521 - accuracy: 0.7803\n",
            "Epoch 22/100\n",
            "259/259 [==============================] - 1s 3ms/step - loss: 0.4505 - accuracy: 0.7814\n",
            "Epoch 23/100\n",
            "259/259 [==============================] - 1s 3ms/step - loss: 0.4490 - accuracy: 0.7838\n",
            "Epoch 24/100\n",
            "259/259 [==============================] - 1s 3ms/step - loss: 0.4476 - accuracy: 0.7833\n",
            "Epoch 25/100\n",
            "259/259 [==============================] - 1s 3ms/step - loss: 0.4473 - accuracy: 0.7810\n",
            "Epoch 26/100\n",
            "259/259 [==============================] - 1s 3ms/step - loss: 0.4456 - accuracy: 0.7854\n",
            "Epoch 27/100\n",
            "259/259 [==============================] - 1s 3ms/step - loss: 0.4442 - accuracy: 0.7835\n",
            "Epoch 28/100\n",
            "259/259 [==============================] - 1s 3ms/step - loss: 0.4437 - accuracy: 0.7873\n",
            "Epoch 29/100\n",
            "259/259 [==============================] - 1s 3ms/step - loss: 0.4423 - accuracy: 0.7868\n",
            "Epoch 30/100\n",
            "259/259 [==============================] - 1s 3ms/step - loss: 0.4420 - accuracy: 0.7844\n",
            "Epoch 31/100\n",
            "259/259 [==============================] - 1s 3ms/step - loss: 0.4417 - accuracy: 0.7858\n",
            "Epoch 32/100\n",
            "259/259 [==============================] - 1s 3ms/step - loss: 0.4392 - accuracy: 0.7906\n",
            "Epoch 33/100\n",
            "259/259 [==============================] - 1s 3ms/step - loss: 0.4387 - accuracy: 0.7907\n",
            "Epoch 34/100\n",
            "259/259 [==============================] - 1s 3ms/step - loss: 0.4382 - accuracy: 0.7874\n",
            "Epoch 35/100\n",
            "259/259 [==============================] - 1s 3ms/step - loss: 0.4366 - accuracy: 0.7909\n",
            "Epoch 36/100\n",
            "259/259 [==============================] - 1s 3ms/step - loss: 0.4359 - accuracy: 0.7887\n",
            "Epoch 37/100\n",
            "259/259 [==============================] - 1s 3ms/step - loss: 0.4346 - accuracy: 0.7921\n",
            "Epoch 38/100\n",
            "259/259 [==============================] - 1s 3ms/step - loss: 0.4363 - accuracy: 0.7885\n",
            "Epoch 39/100\n",
            "259/259 [==============================] - 1s 3ms/step - loss: 0.4328 - accuracy: 0.7903\n",
            "Epoch 40/100\n",
            "259/259 [==============================] - 1s 3ms/step - loss: 0.4318 - accuracy: 0.7909\n",
            "Epoch 41/100\n",
            "259/259 [==============================] - 1s 4ms/step - loss: 0.4326 - accuracy: 0.7921\n",
            "Epoch 42/100\n",
            "259/259 [==============================] - 1s 3ms/step - loss: 0.4298 - accuracy: 0.7936\n",
            "Epoch 43/100\n",
            "259/259 [==============================] - 1s 3ms/step - loss: 0.4294 - accuracy: 0.7904\n",
            "Epoch 44/100\n",
            "259/259 [==============================] - 1s 3ms/step - loss: 0.4291 - accuracy: 0.7924\n",
            "Epoch 45/100\n",
            "259/259 [==============================] - 1s 3ms/step - loss: 0.4274 - accuracy: 0.7947\n",
            "Epoch 46/100\n",
            "259/259 [==============================] - 1s 3ms/step - loss: 0.4273 - accuracy: 0.7959\n",
            "Epoch 47/100\n",
            "259/259 [==============================] - 1s 3ms/step - loss: 0.4278 - accuracy: 0.7921\n",
            "Epoch 48/100\n",
            "259/259 [==============================] - 1s 3ms/step - loss: 0.4250 - accuracy: 0.7958\n",
            "Epoch 49/100\n",
            "259/259 [==============================] - 1s 3ms/step - loss: 0.4251 - accuracy: 0.7952\n",
            "Epoch 50/100\n",
            "259/259 [==============================] - 1s 3ms/step - loss: 0.4244 - accuracy: 0.7938\n",
            "Epoch 51/100\n",
            "259/259 [==============================] - 1s 3ms/step - loss: 0.4240 - accuracy: 0.7978\n",
            "Epoch 52/100\n",
            "259/259 [==============================] - 1s 3ms/step - loss: 0.4226 - accuracy: 0.7989\n",
            "Epoch 53/100\n",
            "259/259 [==============================] - 1s 3ms/step - loss: 0.4219 - accuracy: 0.7960\n",
            "Epoch 54/100\n",
            "259/259 [==============================] - 1s 3ms/step - loss: 0.4226 - accuracy: 0.7969\n",
            "Epoch 55/100\n",
            "259/259 [==============================] - 1s 3ms/step - loss: 0.4221 - accuracy: 0.7966\n",
            "Epoch 56/100\n",
            "259/259 [==============================] - 1s 3ms/step - loss: 0.4205 - accuracy: 0.7964\n",
            "Epoch 57/100\n",
            "259/259 [==============================] - 1s 3ms/step - loss: 0.4196 - accuracy: 0.7979\n",
            "Epoch 58/100\n",
            "259/259 [==============================] - 1s 3ms/step - loss: 0.4194 - accuracy: 0.7970\n",
            "Epoch 59/100\n",
            "259/259 [==============================] - 1s 3ms/step - loss: 0.4178 - accuracy: 0.7999\n",
            "Epoch 60/100\n",
            "259/259 [==============================] - 1s 3ms/step - loss: 0.4178 - accuracy: 0.7989\n",
            "Epoch 61/100\n",
            "259/259 [==============================] - 1s 3ms/step - loss: 0.4176 - accuracy: 0.7998\n",
            "Epoch 62/100\n",
            "259/259 [==============================] - 1s 3ms/step - loss: 0.4174 - accuracy: 0.8019\n",
            "Epoch 63/100\n",
            "259/259 [==============================] - 1s 3ms/step - loss: 0.4145 - accuracy: 0.8024\n",
            "Epoch 64/100\n",
            "259/259 [==============================] - 1s 3ms/step - loss: 0.4150 - accuracy: 0.8023\n",
            "Epoch 65/100\n",
            "259/259 [==============================] - 1s 3ms/step - loss: 0.4146 - accuracy: 0.8024\n",
            "Epoch 66/100\n",
            "259/259 [==============================] - 1s 3ms/step - loss: 0.4137 - accuracy: 0.8019\n",
            "Epoch 67/100\n",
            "259/259 [==============================] - 1s 3ms/step - loss: 0.4126 - accuracy: 0.8030\n",
            "Epoch 68/100\n",
            "259/259 [==============================] - 1s 3ms/step - loss: 0.4144 - accuracy: 0.8001\n",
            "Epoch 69/100\n",
            "259/259 [==============================] - 1s 3ms/step - loss: 0.4115 - accuracy: 0.8035\n",
            "Epoch 70/100\n",
            "259/259 [==============================] - 1s 3ms/step - loss: 0.4123 - accuracy: 0.8033\n",
            "Epoch 71/100\n",
            "259/259 [==============================] - 1s 3ms/step - loss: 0.4113 - accuracy: 0.8027\n",
            "Epoch 72/100\n",
            "259/259 [==============================] - 1s 3ms/step - loss: 0.4111 - accuracy: 0.8033\n",
            "Epoch 73/100\n",
            "259/259 [==============================] - 1s 3ms/step - loss: 0.4093 - accuracy: 0.8042\n",
            "Epoch 74/100\n",
            "259/259 [==============================] - 1s 3ms/step - loss: 0.4102 - accuracy: 0.8017\n",
            "Epoch 75/100\n",
            "259/259 [==============================] - 1s 3ms/step - loss: 0.4090 - accuracy: 0.8052\n",
            "Epoch 76/100\n",
            "259/259 [==============================] - 1s 3ms/step - loss: 0.4079 - accuracy: 0.8088\n",
            "Epoch 77/100\n",
            "259/259 [==============================] - 1s 3ms/step - loss: 0.4068 - accuracy: 0.8104\n",
            "Epoch 78/100\n",
            "259/259 [==============================] - 1s 3ms/step - loss: 0.4084 - accuracy: 0.8052\n",
            "Epoch 79/100\n",
            "259/259 [==============================] - 1s 3ms/step - loss: 0.4067 - accuracy: 0.8088\n",
            "Epoch 80/100\n",
            "259/259 [==============================] - 1s 3ms/step - loss: 0.4071 - accuracy: 0.8077\n",
            "Epoch 81/100\n",
            "259/259 [==============================] - 1s 3ms/step - loss: 0.4052 - accuracy: 0.8082\n",
            "Epoch 82/100\n",
            "259/259 [==============================] - 1s 3ms/step - loss: 0.4048 - accuracy: 0.8081\n",
            "Epoch 83/100\n",
            "259/259 [==============================] - 1s 3ms/step - loss: 0.4052 - accuracy: 0.8079\n",
            "Epoch 84/100\n",
            "259/259 [==============================] - 1s 3ms/step - loss: 0.4043 - accuracy: 0.8075\n",
            "Epoch 85/100\n",
            "259/259 [==============================] - 1s 3ms/step - loss: 0.4052 - accuracy: 0.8085\n",
            "Epoch 86/100\n",
            "259/259 [==============================] - 1s 3ms/step - loss: 0.4039 - accuracy: 0.8103\n",
            "Epoch 87/100\n",
            "259/259 [==============================] - 1s 3ms/step - loss: 0.4032 - accuracy: 0.8113\n",
            "Epoch 88/100\n",
            "259/259 [==============================] - 1s 3ms/step - loss: 0.4021 - accuracy: 0.8105\n",
            "Epoch 89/100\n",
            "259/259 [==============================] - 1s 3ms/step - loss: 0.4023 - accuracy: 0.8119\n",
            "Epoch 90/100\n",
            "259/259 [==============================] - 1s 3ms/step - loss: 0.4025 - accuracy: 0.8088\n",
            "Epoch 91/100\n",
            "259/259 [==============================] - 1s 3ms/step - loss: 0.4025 - accuracy: 0.8082\n",
            "Epoch 92/100\n",
            "259/259 [==============================] - 1s 3ms/step - loss: 0.4010 - accuracy: 0.8107\n",
            "Epoch 93/100\n",
            "259/259 [==============================] - 1s 3ms/step - loss: 0.4005 - accuracy: 0.8117\n",
            "Epoch 94/100\n",
            "259/259 [==============================] - 1s 3ms/step - loss: 0.4010 - accuracy: 0.8117\n",
            "Epoch 95/100\n",
            "259/259 [==============================] - 1s 3ms/step - loss: 0.3995 - accuracy: 0.8148\n",
            "Epoch 96/100\n",
            "259/259 [==============================] - 1s 3ms/step - loss: 0.4007 - accuracy: 0.8115\n",
            "Epoch 97/100\n",
            "259/259 [==============================] - 1s 3ms/step - loss: 0.3988 - accuracy: 0.8119\n",
            "Epoch 98/100\n",
            "259/259 [==============================] - 1s 3ms/step - loss: 0.3987 - accuracy: 0.8137\n",
            "Epoch 99/100\n",
            "259/259 [==============================] - 1s 3ms/step - loss: 0.3987 - accuracy: 0.8130\n",
            "Epoch 100/100\n",
            "259/259 [==============================] - 1s 3ms/step - loss: 0.3990 - accuracy: 0.8138\n",
            "65/65 [==============================] - 0s 2ms/step - loss: 0.4551 - accuracy: 0.7870\n",
            "[0.4550951421260834, 0.7870280742645264]\n",
            "Classification Report : \n",
            "               precision    recall  f1-score   support\n",
            "\n",
            "           0       0.82      0.74      0.78      1033\n",
            "           1       0.76      0.84      0.80      1033\n",
            "\n",
            "    accuracy                           0.79      2066\n",
            "   macro avg       0.79      0.79      0.79      2066\n",
            "weighted avg       0.79      0.79      0.79      2066\n",
            "\n"
          ]
        }
      ]
    },
    {
      "cell_type": "markdown",
      "source": [
        "##SMOTE smart sampling using K-Nearnest Neighbours"
      ],
      "metadata": {
        "id": "xVy-58i2FC0b"
      }
    },
    {
      "cell_type": "code",
      "source": [
        "from imblearn.over_sampling import SMOTE"
      ],
      "metadata": {
        "id": "WJh_5zJ3FQWO"
      },
      "execution_count": null,
      "outputs": []
    },
    {
      "cell_type": "code",
      "source": [
        "X = df2.drop('Churn', axis = 'columns')\n",
        "y = df2['Churn']\n",
        "# from sklearn.model_selection import train_test_split\n",
        "# X_train, X_test, y_train, y_test = train_test_split(X, y, test_size = 0.2, random_state = 5, stratify = y) #startify -> ensures for balanced data i.e. x train should not have data of 1 class and x test for another"
      ],
      "metadata": {
        "id": "xMjbJ5j9EimK"
      },
      "execution_count": null,
      "outputs": []
    },
    {
      "cell_type": "code",
      "source": [
        "y.value_counts()"
      ],
      "metadata": {
        "colab": {
          "base_uri": "https://localhost:8080/"
        },
        "id": "dG0UW5-BFuIJ",
        "outputId": "424a6437-c96d-4c93-c2ef-0130eae85202"
      },
      "execution_count": null,
      "outputs": [
        {
          "output_type": "execute_result",
          "data": {
            "text/plain": [
              "0    5163\n",
              "1    1869\n",
              "Name: Churn, dtype: int64"
            ]
          },
          "metadata": {},
          "execution_count": 59
        }
      ]
    },
    {
      "cell_type": "code",
      "source": [
        "smote = SMOTE(sampling_strategy = 'minority')\n",
        "X_sm , y_sm = smote.fit_resample(X,y)\n",
        "\n",
        "y_sm.value_counts()"
      ],
      "metadata": {
        "colab": {
          "base_uri": "https://localhost:8080/"
        },
        "id": "LUhrujjaFhWE",
        "outputId": "636fcd97-2514-4619-eb73-642452100260"
      },
      "execution_count": null,
      "outputs": [
        {
          "output_type": "execute_result",
          "data": {
            "text/plain": [
              "1    5163\n",
              "0    5163\n",
              "Name: Churn, dtype: int64"
            ]
          },
          "metadata": {},
          "execution_count": 61
        }
      ]
    },
    {
      "cell_type": "code",
      "source": [
        "from sklearn.model_selection import train_test_split\n",
        "X_train, X_test, y_train, y_test = train_test_split(X_sm, y_sm, test_size = 0.2, random_state = 5, stratify = y_sm) #startify -> ensures for balanced data i.e. x train should not have data of 1 class and x test for another"
      ],
      "metadata": {
        "id": "S71TJANMGAXX"
      },
      "execution_count": null,
      "outputs": []
    },
    {
      "cell_type": "code",
      "source": [
        "y_preds = ANN(X_train, y_train, X_test, y_test, 'binary_crossentropy', -1)"
      ],
      "metadata": {
        "colab": {
          "base_uri": "https://localhost:8080/"
        },
        "id": "j2sLpBvfGNSQ",
        "outputId": "5a319fdf-8485-4079-88ea-fc67dd3b845c"
      },
      "execution_count": null,
      "outputs": [
        {
          "output_type": "stream",
          "name": "stdout",
          "text": [
            "Epoch 1/100\n",
            "259/259 [==============================] - 2s 4ms/step - loss: 0.5385 - accuracy: 0.7392\n",
            "Epoch 2/100\n",
            "259/259 [==============================] - 1s 4ms/step - loss: 0.4774 - accuracy: 0.7775\n",
            "Epoch 3/100\n",
            "259/259 [==============================] - 1s 4ms/step - loss: 0.4677 - accuracy: 0.7788\n",
            "Epoch 4/100\n",
            "259/259 [==============================] - 1s 5ms/step - loss: 0.4611 - accuracy: 0.7816\n",
            "Epoch 5/100\n",
            "259/259 [==============================] - 1s 3ms/step - loss: 0.4578 - accuracy: 0.7823\n",
            "Epoch 6/100\n",
            "259/259 [==============================] - 1s 3ms/step - loss: 0.4531 - accuracy: 0.7854\n",
            "Epoch 7/100\n",
            "259/259 [==============================] - 1s 3ms/step - loss: 0.4512 - accuracy: 0.7892\n",
            "Epoch 8/100\n",
            "259/259 [==============================] - 1s 3ms/step - loss: 0.4475 - accuracy: 0.7903\n",
            "Epoch 9/100\n",
            "259/259 [==============================] - 1s 3ms/step - loss: 0.4457 - accuracy: 0.7884\n",
            "Epoch 10/100\n",
            "259/259 [==============================] - 1s 3ms/step - loss: 0.4425 - accuracy: 0.7937\n",
            "Epoch 11/100\n",
            "259/259 [==============================] - 1s 3ms/step - loss: 0.4386 - accuracy: 0.7947\n",
            "Epoch 12/100\n",
            "259/259 [==============================] - 1s 3ms/step - loss: 0.4371 - accuracy: 0.7948\n",
            "Epoch 13/100\n",
            "259/259 [==============================] - 1s 3ms/step - loss: 0.4339 - accuracy: 0.7972\n",
            "Epoch 14/100\n",
            "259/259 [==============================] - 1s 3ms/step - loss: 0.4303 - accuracy: 0.7962\n",
            "Epoch 15/100\n",
            "259/259 [==============================] - 1s 3ms/step - loss: 0.4301 - accuracy: 0.7954\n",
            "Epoch 16/100\n",
            "259/259 [==============================] - 1s 3ms/step - loss: 0.4264 - accuracy: 0.8023\n",
            "Epoch 17/100\n",
            "259/259 [==============================] - 1s 3ms/step - loss: 0.4252 - accuracy: 0.7996\n",
            "Epoch 18/100\n",
            "259/259 [==============================] - 1s 3ms/step - loss: 0.4236 - accuracy: 0.8033\n",
            "Epoch 19/100\n",
            "259/259 [==============================] - 1s 3ms/step - loss: 0.4205 - accuracy: 0.8048\n",
            "Epoch 20/100\n",
            "259/259 [==============================] - 1s 3ms/step - loss: 0.4185 - accuracy: 0.8050\n",
            "Epoch 21/100\n",
            "259/259 [==============================] - 1s 3ms/step - loss: 0.4162 - accuracy: 0.8096\n",
            "Epoch 22/100\n",
            "259/259 [==============================] - 1s 3ms/step - loss: 0.4144 - accuracy: 0.8058\n",
            "Epoch 23/100\n",
            "259/259 [==============================] - 1s 3ms/step - loss: 0.4132 - accuracy: 0.8086\n",
            "Epoch 24/100\n",
            "259/259 [==============================] - 1s 3ms/step - loss: 0.4112 - accuracy: 0.8115\n",
            "Epoch 25/100\n",
            "259/259 [==============================] - 1s 3ms/step - loss: 0.4077 - accuracy: 0.8145\n",
            "Epoch 26/100\n",
            "259/259 [==============================] - 1s 3ms/step - loss: 0.4090 - accuracy: 0.8098\n",
            "Epoch 27/100\n",
            "259/259 [==============================] - 1s 3ms/step - loss: 0.4066 - accuracy: 0.8116\n",
            "Epoch 28/100\n",
            "259/259 [==============================] - 1s 3ms/step - loss: 0.4049 - accuracy: 0.8153\n",
            "Epoch 29/100\n",
            "259/259 [==============================] - 1s 3ms/step - loss: 0.4039 - accuracy: 0.8154\n",
            "Epoch 30/100\n",
            "259/259 [==============================] - 1s 3ms/step - loss: 0.4027 - accuracy: 0.8137\n",
            "Epoch 31/100\n",
            "259/259 [==============================] - 1s 3ms/step - loss: 0.4020 - accuracy: 0.8144\n",
            "Epoch 32/100\n",
            "259/259 [==============================] - 1s 3ms/step - loss: 0.3994 - accuracy: 0.8163\n",
            "Epoch 33/100\n",
            "259/259 [==============================] - 1s 3ms/step - loss: 0.3978 - accuracy: 0.8167\n",
            "Epoch 34/100\n",
            "259/259 [==============================] - 1s 3ms/step - loss: 0.3974 - accuracy: 0.8162\n",
            "Epoch 35/100\n",
            "259/259 [==============================] - 1s 3ms/step - loss: 0.3969 - accuracy: 0.8159\n",
            "Epoch 36/100\n",
            "259/259 [==============================] - 1s 3ms/step - loss: 0.3957 - accuracy: 0.8159\n",
            "Epoch 37/100\n",
            "259/259 [==============================] - 1s 3ms/step - loss: 0.3954 - accuracy: 0.8189\n",
            "Epoch 38/100\n",
            "259/259 [==============================] - 1s 3ms/step - loss: 0.3928 - accuracy: 0.8197\n",
            "Epoch 39/100\n",
            "259/259 [==============================] - 1s 3ms/step - loss: 0.3929 - accuracy: 0.8195\n",
            "Epoch 40/100\n",
            "259/259 [==============================] - 1s 3ms/step - loss: 0.3944 - accuracy: 0.8192\n",
            "Epoch 41/100\n",
            "259/259 [==============================] - 1s 3ms/step - loss: 0.3903 - accuracy: 0.8201\n",
            "Epoch 42/100\n",
            "259/259 [==============================] - 1s 3ms/step - loss: 0.3895 - accuracy: 0.8197\n",
            "Epoch 43/100\n",
            "259/259 [==============================] - 1s 3ms/step - loss: 0.3882 - accuracy: 0.8218\n",
            "Epoch 44/100\n",
            "259/259 [==============================] - 1s 3ms/step - loss: 0.3875 - accuracy: 0.8242\n",
            "Epoch 45/100\n",
            "259/259 [==============================] - 1s 3ms/step - loss: 0.3867 - accuracy: 0.8209\n",
            "Epoch 46/100\n",
            "259/259 [==============================] - 1s 3ms/step - loss: 0.3863 - accuracy: 0.8220\n",
            "Epoch 47/100\n",
            "259/259 [==============================] - 1s 3ms/step - loss: 0.3844 - accuracy: 0.8254\n",
            "Epoch 48/100\n",
            "259/259 [==============================] - 1s 3ms/step - loss: 0.3842 - accuracy: 0.8223\n",
            "Epoch 49/100\n",
            "259/259 [==============================] - 1s 3ms/step - loss: 0.3842 - accuracy: 0.8201\n",
            "Epoch 50/100\n",
            "259/259 [==============================] - 1s 3ms/step - loss: 0.3811 - accuracy: 0.8214\n",
            "Epoch 51/100\n",
            "259/259 [==============================] - 1s 3ms/step - loss: 0.3813 - accuracy: 0.8232\n",
            "Epoch 52/100\n",
            "259/259 [==============================] - 1s 3ms/step - loss: 0.3819 - accuracy: 0.8251\n",
            "Epoch 53/100\n",
            "259/259 [==============================] - 1s 3ms/step - loss: 0.3812 - accuracy: 0.8248\n",
            "Epoch 54/100\n",
            "259/259 [==============================] - 1s 3ms/step - loss: 0.3814 - accuracy: 0.8245\n",
            "Epoch 55/100\n",
            "259/259 [==============================] - 1s 3ms/step - loss: 0.3795 - accuracy: 0.8278\n",
            "Epoch 56/100\n",
            "259/259 [==============================] - 1s 3ms/step - loss: 0.3807 - accuracy: 0.8255\n",
            "Epoch 57/100\n",
            "259/259 [==============================] - 1s 3ms/step - loss: 0.3772 - accuracy: 0.8264\n",
            "Epoch 58/100\n",
            "259/259 [==============================] - 1s 3ms/step - loss: 0.3764 - accuracy: 0.8283\n",
            "Epoch 59/100\n",
            "259/259 [==============================] - 1s 3ms/step - loss: 0.3787 - accuracy: 0.8278\n",
            "Epoch 60/100\n",
            "259/259 [==============================] - 1s 4ms/step - loss: 0.3786 - accuracy: 0.8286\n",
            "Epoch 61/100\n",
            "259/259 [==============================] - 1s 4ms/step - loss: 0.3747 - accuracy: 0.8281\n",
            "Epoch 62/100\n",
            "259/259 [==============================] - 1s 4ms/step - loss: 0.3759 - accuracy: 0.8259\n",
            "Epoch 63/100\n",
            "259/259 [==============================] - 1s 4ms/step - loss: 0.3743 - accuracy: 0.8268\n",
            "Epoch 64/100\n",
            "259/259 [==============================] - 1s 4ms/step - loss: 0.3741 - accuracy: 0.8271\n",
            "Epoch 65/100\n",
            "259/259 [==============================] - 1s 5ms/step - loss: 0.3723 - accuracy: 0.8304\n",
            "Epoch 66/100\n",
            "259/259 [==============================] - 1s 5ms/step - loss: 0.3732 - accuracy: 0.8305\n",
            "Epoch 67/100\n",
            "259/259 [==============================] - 1s 4ms/step - loss: 0.3723 - accuracy: 0.8305\n",
            "Epoch 68/100\n",
            "259/259 [==============================] - 1s 4ms/step - loss: 0.3736 - accuracy: 0.8275\n",
            "Epoch 69/100\n",
            "259/259 [==============================] - 1s 4ms/step - loss: 0.3696 - accuracy: 0.8321\n",
            "Epoch 70/100\n",
            "259/259 [==============================] - 1s 3ms/step - loss: 0.3748 - accuracy: 0.8315\n",
            "Epoch 71/100\n",
            "259/259 [==============================] - 1s 3ms/step - loss: 0.3700 - accuracy: 0.8321\n",
            "Epoch 72/100\n",
            "259/259 [==============================] - 1s 3ms/step - loss: 0.3693 - accuracy: 0.8315\n",
            "Epoch 73/100\n",
            "259/259 [==============================] - 1s 3ms/step - loss: 0.3699 - accuracy: 0.8327\n",
            "Epoch 74/100\n",
            "259/259 [==============================] - 1s 3ms/step - loss: 0.3706 - accuracy: 0.8311\n",
            "Epoch 75/100\n",
            "259/259 [==============================] - 1s 3ms/step - loss: 0.3672 - accuracy: 0.8332\n",
            "Epoch 76/100\n",
            "259/259 [==============================] - 1s 3ms/step - loss: 0.3667 - accuracy: 0.8332\n",
            "Epoch 77/100\n",
            "259/259 [==============================] - 1s 3ms/step - loss: 0.3658 - accuracy: 0.8338\n",
            "Epoch 78/100\n",
            "259/259 [==============================] - 1s 3ms/step - loss: 0.3690 - accuracy: 0.8321\n",
            "Epoch 79/100\n",
            "259/259 [==============================] - 1s 3ms/step - loss: 0.3665 - accuracy: 0.8341\n",
            "Epoch 80/100\n",
            "259/259 [==============================] - 1s 3ms/step - loss: 0.3669 - accuracy: 0.8303\n",
            "Epoch 81/100\n",
            "259/259 [==============================] - 1s 3ms/step - loss: 0.3665 - accuracy: 0.8315\n",
            "Epoch 82/100\n",
            "259/259 [==============================] - 1s 3ms/step - loss: 0.3649 - accuracy: 0.8335\n",
            "Epoch 83/100\n",
            "259/259 [==============================] - 1s 3ms/step - loss: 0.3649 - accuracy: 0.8362\n",
            "Epoch 84/100\n",
            "259/259 [==============================] - 1s 3ms/step - loss: 0.3642 - accuracy: 0.8345\n",
            "Epoch 85/100\n",
            "259/259 [==============================] - 1s 3ms/step - loss: 0.3630 - accuracy: 0.8350\n",
            "Epoch 86/100\n",
            "259/259 [==============================] - 1s 3ms/step - loss: 0.3635 - accuracy: 0.8318\n",
            "Epoch 87/100\n",
            "259/259 [==============================] - 1s 3ms/step - loss: 0.3640 - accuracy: 0.8312\n",
            "Epoch 88/100\n",
            "259/259 [==============================] - 1s 3ms/step - loss: 0.3639 - accuracy: 0.8352\n",
            "Epoch 89/100\n",
            "259/259 [==============================] - 1s 3ms/step - loss: 0.3643 - accuracy: 0.8349\n",
            "Epoch 90/100\n",
            "259/259 [==============================] - 1s 3ms/step - loss: 0.3631 - accuracy: 0.8315\n",
            "Epoch 91/100\n",
            "259/259 [==============================] - 1s 3ms/step - loss: 0.3634 - accuracy: 0.8350\n",
            "Epoch 92/100\n",
            "259/259 [==============================] - 1s 3ms/step - loss: 0.3631 - accuracy: 0.8367\n",
            "Epoch 93/100\n",
            "259/259 [==============================] - 1s 3ms/step - loss: 0.3637 - accuracy: 0.8350\n",
            "Epoch 94/100\n",
            "259/259 [==============================] - 1s 3ms/step - loss: 0.3614 - accuracy: 0.8351\n",
            "Epoch 95/100\n",
            "259/259 [==============================] - 1s 4ms/step - loss: 0.3598 - accuracy: 0.8373\n",
            "Epoch 96/100\n",
            "259/259 [==============================] - 1s 4ms/step - loss: 0.3650 - accuracy: 0.8338\n",
            "Epoch 97/100\n",
            "259/259 [==============================] - 1s 3ms/step - loss: 0.3622 - accuracy: 0.8344\n",
            "Epoch 98/100\n",
            "259/259 [==============================] - 1s 3ms/step - loss: 0.3598 - accuracy: 0.8373\n",
            "Epoch 99/100\n",
            "259/259 [==============================] - 1s 3ms/step - loss: 0.3612 - accuracy: 0.8367\n",
            "Epoch 100/100\n",
            "259/259 [==============================] - 1s 3ms/step - loss: 0.3593 - accuracy: 0.8375\n",
            "65/65 [==============================] - 0s 3ms/step - loss: 0.3937 - accuracy: 0.8161\n",
            "[0.39372047781944275, 0.8160697221755981]\n",
            "Classification Report : \n",
            "               precision    recall  f1-score   support\n",
            "\n",
            "           0       0.84      0.78      0.81      1033\n",
            "           1       0.80      0.85      0.82      1033\n",
            "\n",
            "    accuracy                           0.82      2066\n",
            "   macro avg       0.82      0.82      0.82      2066\n",
            "weighted avg       0.82      0.82      0.82      2066\n",
            "\n"
          ]
        }
      ]
    },
    {
      "cell_type": "markdown",
      "source": [
        "##Ensemble with undersampling"
      ],
      "metadata": {
        "id": "Jtii2FShG0Xp"
      }
    },
    {
      "cell_type": "code",
      "source": [
        "df2.Churn.value_counts()"
      ],
      "metadata": {
        "colab": {
          "base_uri": "https://localhost:8080/"
        },
        "id": "xuNv89fGGoie",
        "outputId": "b19df7e5-6584-4eb2-ef60-85960a237d9b"
      },
      "execution_count": null,
      "outputs": [
        {
          "output_type": "execute_result",
          "data": {
            "text/plain": [
              "0    5163\n",
              "1    1869\n",
              "Name: Churn, dtype: int64"
            ]
          },
          "metadata": {},
          "execution_count": 65
        }
      ]
    },
    {
      "cell_type": "code",
      "source": [
        "X = df2.drop('Churn', axis = 'columns')\n",
        "y = df2['Churn']"
      ],
      "metadata": {
        "id": "bvt6lo7_HEzG"
      },
      "execution_count": null,
      "outputs": []
    },
    {
      "cell_type": "code",
      "source": [
        "from sklearn.model_selection import train_test_split\n",
        "X_train, X_test, y_train, y_test = train_test_split(X, y, test_size = 0.2, random_state = 5, stratify = y) #startify -> ensures for balanced data i.e. x train should not have data of 1 class and x test for another"
      ],
      "metadata": {
        "id": "3AUGZCmqHbGA"
      },
      "execution_count": null,
      "outputs": []
    },
    {
      "cell_type": "code",
      "source": [
        "y_train.value_counts()"
      ],
      "metadata": {
        "colab": {
          "base_uri": "https://localhost:8080/"
        },
        "id": "NGAxRQ2LHgH8",
        "outputId": "34436f43-21fb-4622-e143-d2fca9f500cd"
      },
      "execution_count": null,
      "outputs": [
        {
          "output_type": "execute_result",
          "data": {
            "text/plain": [
              "0    4130\n",
              "1    1495\n",
              "Name: Churn, dtype: int64"
            ]
          },
          "metadata": {},
          "execution_count": 68
        }
      ]
    },
    {
      "cell_type": "code",
      "source": [
        "df3 =  X_train.copy()\n",
        "df3['Churn'] = y_train"
      ],
      "metadata": {
        "id": "4XUf1VHCHjDU"
      },
      "execution_count": null,
      "outputs": []
    },
    {
      "cell_type": "code",
      "source": [
        "df3_class0 = df3[df3.Churn == 0]\n",
        "df3_class1 = df3[df3.Churn == 1]"
      ],
      "metadata": {
        "id": "20Dg3NmoHzUW"
      },
      "execution_count": null,
      "outputs": []
    },
    {
      "cell_type": "code",
      "source": [
        "df3_class0.shape, df3_class1.shape"
      ],
      "metadata": {
        "colab": {
          "base_uri": "https://localhost:8080/"
        },
        "id": "yZUPKtNoH62s",
        "outputId": "6836865c-f4dc-487d-fa79-5f44db524926"
      },
      "execution_count": null,
      "outputs": [
        {
          "output_type": "execute_result",
          "data": {
            "text/plain": [
              "((4130, 27), (1495, 27))"
            ]
          },
          "metadata": {},
          "execution_count": 71
        }
      ]
    },
    {
      "cell_type": "code",
      "source": [
        "def get_train_batch(df_majority, df_minority, start, end):\n",
        "    df_train = pd.concat([df_majority[start:end], df_minority], axis = 'rows')\n",
        "    \n",
        "    X_train = df_train.drop('Churn', axis = 'columns')\n",
        "    y_train = df_train.Churn\n",
        "\n",
        "    return X_train, y_train"
      ],
      "metadata": {
        "id": "eDIpZn_tIEhA"
      },
      "execution_count": null,
      "outputs": []
    },
    {
      "cell_type": "code",
      "source": [
        "X_train, y_train = get_train_batch(df3_class0, df3_class1, 0, 1495)\n",
        "y_pred1 = ANN(X_train, y_train, X_test, y_test, 'binary_crossentropy', -1)"
      ],
      "metadata": {
        "colab": {
          "base_uri": "https://localhost:8080/"
        },
        "id": "hjcYlAIcIhNg",
        "outputId": "1a3ac5ce-1e9f-4aeb-9a32-68a28a819a55"
      },
      "execution_count": null,
      "outputs": [
        {
          "output_type": "stream",
          "name": "stdout",
          "text": [
            "Epoch 1/100\n",
            "94/94 [==============================] - 1s 3ms/step - loss: 0.6168 - accuracy: 0.6987\n",
            "Epoch 2/100\n",
            "94/94 [==============================] - 0s 3ms/step - loss: 0.5291 - accuracy: 0.7408\n",
            "Epoch 3/100\n",
            "94/94 [==============================] - 0s 3ms/step - loss: 0.5130 - accuracy: 0.7505\n",
            "Epoch 4/100\n",
            "94/94 [==============================] - 0s 3ms/step - loss: 0.5065 - accuracy: 0.7559\n",
            "Epoch 5/100\n",
            "94/94 [==============================] - 0s 3ms/step - loss: 0.5022 - accuracy: 0.7612\n",
            "Epoch 6/100\n",
            "94/94 [==============================] - 0s 3ms/step - loss: 0.4980 - accuracy: 0.7589\n",
            "Epoch 7/100\n",
            "94/94 [==============================] - 0s 3ms/step - loss: 0.4955 - accuracy: 0.7605\n",
            "Epoch 8/100\n",
            "94/94 [==============================] - 0s 3ms/step - loss: 0.4935 - accuracy: 0.7612\n",
            "Epoch 9/100\n",
            "94/94 [==============================] - 0s 3ms/step - loss: 0.4924 - accuracy: 0.7652\n",
            "Epoch 10/100\n",
            "94/94 [==============================] - 0s 3ms/step - loss: 0.4905 - accuracy: 0.7642\n",
            "Epoch 11/100\n",
            "94/94 [==============================] - 0s 5ms/step - loss: 0.4887 - accuracy: 0.7645\n",
            "Epoch 12/100\n",
            "94/94 [==============================] - 1s 7ms/step - loss: 0.4877 - accuracy: 0.7625\n",
            "Epoch 13/100\n",
            "94/94 [==============================] - 1s 6ms/step - loss: 0.4852 - accuracy: 0.7639\n",
            "Epoch 14/100\n",
            "94/94 [==============================] - 0s 4ms/step - loss: 0.4850 - accuracy: 0.7706\n",
            "Epoch 15/100\n",
            "94/94 [==============================] - 0s 5ms/step - loss: 0.4848 - accuracy: 0.7635\n",
            "Epoch 16/100\n",
            "94/94 [==============================] - 0s 4ms/step - loss: 0.4815 - accuracy: 0.7709\n",
            "Epoch 17/100\n",
            "94/94 [==============================] - 0s 4ms/step - loss: 0.4806 - accuracy: 0.7696\n",
            "Epoch 18/100\n",
            "94/94 [==============================] - 0s 4ms/step - loss: 0.4794 - accuracy: 0.7702\n",
            "Epoch 19/100\n",
            "94/94 [==============================] - 0s 4ms/step - loss: 0.4788 - accuracy: 0.7729\n",
            "Epoch 20/100\n",
            "94/94 [==============================] - 0s 4ms/step - loss: 0.4791 - accuracy: 0.7712\n",
            "Epoch 21/100\n",
            "94/94 [==============================] - 0s 4ms/step - loss: 0.4755 - accuracy: 0.7756\n",
            "Epoch 22/100\n",
            "94/94 [==============================] - 0s 4ms/step - loss: 0.4763 - accuracy: 0.7753\n",
            "Epoch 23/100\n",
            "94/94 [==============================] - 0s 4ms/step - loss: 0.4731 - accuracy: 0.7712\n",
            "Epoch 24/100\n",
            "94/94 [==============================] - 1s 6ms/step - loss: 0.4730 - accuracy: 0.7726\n",
            "Epoch 25/100\n",
            "94/94 [==============================] - 1s 6ms/step - loss: 0.4731 - accuracy: 0.7746\n",
            "Epoch 26/100\n",
            "94/94 [==============================] - 0s 4ms/step - loss: 0.4707 - accuracy: 0.7739\n",
            "Epoch 27/100\n",
            "94/94 [==============================] - 0s 4ms/step - loss: 0.4696 - accuracy: 0.7749\n",
            "Epoch 28/100\n",
            "94/94 [==============================] - 0s 4ms/step - loss: 0.4699 - accuracy: 0.7756\n",
            "Epoch 29/100\n",
            "94/94 [==============================] - 0s 5ms/step - loss: 0.4701 - accuracy: 0.7726\n",
            "Epoch 30/100\n",
            "94/94 [==============================] - 1s 6ms/step - loss: 0.4680 - accuracy: 0.7789\n",
            "Epoch 31/100\n",
            "94/94 [==============================] - 0s 5ms/step - loss: 0.4658 - accuracy: 0.7813\n",
            "Epoch 32/100\n",
            "94/94 [==============================] - 0s 5ms/step - loss: 0.4648 - accuracy: 0.7786\n",
            "Epoch 33/100\n",
            "94/94 [==============================] - 0s 3ms/step - loss: 0.4652 - accuracy: 0.7766\n",
            "Epoch 34/100\n",
            "94/94 [==============================] - 0s 4ms/step - loss: 0.4631 - accuracy: 0.7789\n",
            "Epoch 35/100\n",
            "94/94 [==============================] - 0s 4ms/step - loss: 0.4630 - accuracy: 0.7819\n",
            "Epoch 36/100\n",
            "94/94 [==============================] - 0s 4ms/step - loss: 0.4616 - accuracy: 0.7809\n",
            "Epoch 37/100\n",
            "94/94 [==============================] - 0s 3ms/step - loss: 0.4605 - accuracy: 0.7803\n",
            "Epoch 38/100\n",
            "94/94 [==============================] - 0s 5ms/step - loss: 0.4606 - accuracy: 0.7763\n",
            "Epoch 39/100\n",
            "94/94 [==============================] - 0s 5ms/step - loss: 0.4603 - accuracy: 0.7793\n",
            "Epoch 40/100\n",
            "94/94 [==============================] - 0s 4ms/step - loss: 0.4582 - accuracy: 0.7829\n",
            "Epoch 41/100\n",
            "94/94 [==============================] - 0s 5ms/step - loss: 0.4578 - accuracy: 0.7829\n",
            "Epoch 42/100\n",
            "94/94 [==============================] - 0s 4ms/step - loss: 0.4575 - accuracy: 0.7799\n",
            "Epoch 43/100\n",
            "94/94 [==============================] - 0s 4ms/step - loss: 0.4559 - accuracy: 0.7809\n",
            "Epoch 44/100\n",
            "94/94 [==============================] - 0s 4ms/step - loss: 0.4556 - accuracy: 0.7826\n",
            "Epoch 45/100\n",
            "94/94 [==============================] - 0s 5ms/step - loss: 0.4547 - accuracy: 0.7839\n",
            "Epoch 46/100\n",
            "94/94 [==============================] - 0s 4ms/step - loss: 0.4543 - accuracy: 0.7789\n",
            "Epoch 47/100\n",
            "94/94 [==============================] - 0s 3ms/step - loss: 0.4528 - accuracy: 0.7863\n",
            "Epoch 48/100\n",
            "94/94 [==============================] - 0s 5ms/step - loss: 0.4531 - accuracy: 0.7833\n",
            "Epoch 49/100\n",
            "94/94 [==============================] - 1s 6ms/step - loss: 0.4521 - accuracy: 0.7843\n",
            "Epoch 50/100\n",
            "94/94 [==============================] - 0s 5ms/step - loss: 0.4508 - accuracy: 0.7856\n",
            "Epoch 51/100\n",
            "94/94 [==============================] - 0s 4ms/step - loss: 0.4504 - accuracy: 0.7866\n",
            "Epoch 52/100\n",
            "94/94 [==============================] - 0s 4ms/step - loss: 0.4491 - accuracy: 0.7883\n",
            "Epoch 53/100\n",
            "94/94 [==============================] - 0s 4ms/step - loss: 0.4483 - accuracy: 0.7846\n",
            "Epoch 54/100\n",
            "94/94 [==============================] - 0s 4ms/step - loss: 0.4485 - accuracy: 0.7863\n",
            "Epoch 55/100\n",
            "94/94 [==============================] - 1s 6ms/step - loss: 0.4482 - accuracy: 0.7870\n",
            "Epoch 56/100\n",
            "94/94 [==============================] - 0s 4ms/step - loss: 0.4459 - accuracy: 0.7900\n",
            "Epoch 57/100\n",
            "94/94 [==============================] - 0s 5ms/step - loss: 0.4460 - accuracy: 0.7923\n",
            "Epoch 58/100\n",
            "94/94 [==============================] - 0s 5ms/step - loss: 0.4455 - accuracy: 0.7920\n",
            "Epoch 59/100\n",
            "94/94 [==============================] - 0s 4ms/step - loss: 0.4434 - accuracy: 0.7926\n",
            "Epoch 60/100\n",
            "94/94 [==============================] - 0s 5ms/step - loss: 0.4445 - accuracy: 0.7890\n",
            "Epoch 61/100\n",
            "94/94 [==============================] - 0s 4ms/step - loss: 0.4431 - accuracy: 0.7896\n",
            "Epoch 62/100\n",
            "94/94 [==============================] - 0s 3ms/step - loss: 0.4423 - accuracy: 0.7896\n",
            "Epoch 63/100\n",
            "94/94 [==============================] - 0s 5ms/step - loss: 0.4424 - accuracy: 0.7923\n",
            "Epoch 64/100\n",
            "94/94 [==============================] - 0s 5ms/step - loss: 0.4416 - accuracy: 0.7936\n",
            "Epoch 65/100\n",
            "94/94 [==============================] - 0s 4ms/step - loss: 0.4403 - accuracy: 0.7943\n",
            "Epoch 66/100\n",
            "94/94 [==============================] - 0s 5ms/step - loss: 0.4391 - accuracy: 0.7946\n",
            "Epoch 67/100\n",
            "94/94 [==============================] - 0s 5ms/step - loss: 0.4378 - accuracy: 0.7953\n",
            "Epoch 68/100\n",
            "94/94 [==============================] - 0s 5ms/step - loss: 0.4378 - accuracy: 0.7950\n",
            "Epoch 69/100\n",
            "94/94 [==============================] - 0s 4ms/step - loss: 0.4388 - accuracy: 0.7933\n",
            "Epoch 70/100\n",
            "94/94 [==============================] - 0s 5ms/step - loss: 0.4358 - accuracy: 0.7926\n",
            "Epoch 71/100\n",
            "94/94 [==============================] - 0s 4ms/step - loss: 0.4377 - accuracy: 0.7953\n",
            "Epoch 72/100\n",
            "94/94 [==============================] - 0s 4ms/step - loss: 0.4350 - accuracy: 0.7960\n",
            "Epoch 73/100\n",
            "94/94 [==============================] - 0s 5ms/step - loss: 0.4356 - accuracy: 0.7946\n",
            "Epoch 74/100\n",
            "94/94 [==============================] - 0s 5ms/step - loss: 0.4349 - accuracy: 0.7953\n",
            "Epoch 75/100\n",
            "94/94 [==============================] - 0s 4ms/step - loss: 0.4343 - accuracy: 0.8007\n",
            "Epoch 76/100\n",
            "94/94 [==============================] - 0s 5ms/step - loss: 0.4340 - accuracy: 0.7960\n",
            "Epoch 77/100\n",
            "94/94 [==============================] - 0s 5ms/step - loss: 0.4328 - accuracy: 0.7990\n",
            "Epoch 78/100\n",
            "94/94 [==============================] - 0s 4ms/step - loss: 0.4324 - accuracy: 0.7993\n",
            "Epoch 79/100\n",
            "94/94 [==============================] - 1s 6ms/step - loss: 0.4320 - accuracy: 0.7970\n",
            "Epoch 80/100\n",
            "94/94 [==============================] - 1s 6ms/step - loss: 0.4305 - accuracy: 0.8007\n",
            "Epoch 81/100\n",
            "94/94 [==============================] - 0s 5ms/step - loss: 0.4312 - accuracy: 0.7973\n",
            "Epoch 82/100\n",
            "94/94 [==============================] - 0s 3ms/step - loss: 0.4304 - accuracy: 0.8000\n",
            "Epoch 83/100\n",
            "94/94 [==============================] - 0s 4ms/step - loss: 0.4304 - accuracy: 0.7990\n",
            "Epoch 84/100\n",
            "94/94 [==============================] - 0s 3ms/step - loss: 0.4285 - accuracy: 0.7983\n",
            "Epoch 85/100\n",
            "94/94 [==============================] - 0s 3ms/step - loss: 0.4298 - accuracy: 0.8007\n",
            "Epoch 86/100\n",
            "94/94 [==============================] - 0s 4ms/step - loss: 0.4304 - accuracy: 0.8010\n",
            "Epoch 87/100\n",
            "94/94 [==============================] - 0s 3ms/step - loss: 0.4283 - accuracy: 0.7993\n",
            "Epoch 88/100\n",
            "94/94 [==============================] - 0s 4ms/step - loss: 0.4270 - accuracy: 0.8000\n",
            "Epoch 89/100\n",
            "94/94 [==============================] - 0s 3ms/step - loss: 0.4257 - accuracy: 0.7987\n",
            "Epoch 90/100\n",
            "94/94 [==============================] - 0s 3ms/step - loss: 0.4267 - accuracy: 0.8000\n",
            "Epoch 91/100\n",
            "94/94 [==============================] - 0s 5ms/step - loss: 0.4265 - accuracy: 0.8037\n",
            "Epoch 92/100\n",
            "94/94 [==============================] - 0s 3ms/step - loss: 0.4269 - accuracy: 0.8007\n",
            "Epoch 93/100\n",
            "94/94 [==============================] - 0s 5ms/step - loss: 0.4248 - accuracy: 0.8023\n",
            "Epoch 94/100\n",
            "94/94 [==============================] - 0s 4ms/step - loss: 0.4236 - accuracy: 0.8027\n",
            "Epoch 95/100\n",
            "94/94 [==============================] - 0s 4ms/step - loss: 0.4227 - accuracy: 0.8020\n",
            "Epoch 96/100\n",
            "94/94 [==============================] - 0s 4ms/step - loss: 0.4227 - accuracy: 0.8027\n",
            "Epoch 97/100\n",
            "94/94 [==============================] - 0s 4ms/step - loss: 0.4240 - accuracy: 0.7983\n",
            "Epoch 98/100\n",
            "94/94 [==============================] - 0s 3ms/step - loss: 0.4215 - accuracy: 0.8017\n",
            "Epoch 99/100\n",
            "94/94 [==============================] - 0s 4ms/step - loss: 0.4205 - accuracy: 0.8047\n",
            "Epoch 100/100\n",
            "94/94 [==============================] - 0s 3ms/step - loss: 0.4219 - accuracy: 0.8007\n",
            "44/44 [==============================] - 0s 3ms/step - loss: 0.5248 - accuracy: 0.7242\n",
            "[0.5247980356216431, 0.7242359519004822]\n",
            "Classification Report : \n",
            "               precision    recall  f1-score   support\n",
            "\n",
            "           0       0.88      0.72      0.79      1033\n",
            "           1       0.49      0.74      0.59       374\n",
            "\n",
            "    accuracy                           0.72      1407\n",
            "   macro avg       0.69      0.73      0.69      1407\n",
            "weighted avg       0.78      0.72      0.74      1407\n",
            "\n"
          ]
        }
      ]
    },
    {
      "cell_type": "code",
      "source": [
        "X_train, y_train = get_train_batch(df3_class0, df3_class1, 1495, 2990)\n",
        "y_pred2 = ANN(X_train, y_train, X_test, y_test, 'binary_crossentropy', -1)"
      ],
      "metadata": {
        "colab": {
          "base_uri": "https://localhost:8080/"
        },
        "id": "jPOOC9RfMP6L",
        "outputId": "d4cdd140-8000-4af4-a456-20496da30db8"
      },
      "execution_count": null,
      "outputs": [
        {
          "output_type": "stream",
          "name": "stdout",
          "text": [
            "Epoch 1/100\n",
            "94/94 [==============================] - 1s 3ms/step - loss: 0.6281 - accuracy: 0.6609\n",
            "Epoch 2/100\n",
            "94/94 [==============================] - 0s 4ms/step - loss: 0.5216 - accuracy: 0.7518\n",
            "Epoch 3/100\n",
            "94/94 [==============================] - 0s 5ms/step - loss: 0.5019 - accuracy: 0.7542\n",
            "Epoch 4/100\n",
            "94/94 [==============================] - 0s 4ms/step - loss: 0.4945 - accuracy: 0.7609\n",
            "Epoch 5/100\n",
            "94/94 [==============================] - 1s 6ms/step - loss: 0.4908 - accuracy: 0.7595\n",
            "Epoch 6/100\n",
            "94/94 [==============================] - 0s 5ms/step - loss: 0.4864 - accuracy: 0.7642\n",
            "Epoch 7/100\n",
            "94/94 [==============================] - 1s 5ms/step - loss: 0.4841 - accuracy: 0.7645\n",
            "Epoch 8/100\n",
            "94/94 [==============================] - 0s 5ms/step - loss: 0.4825 - accuracy: 0.7679\n",
            "Epoch 9/100\n",
            "94/94 [==============================] - 0s 5ms/step - loss: 0.4795 - accuracy: 0.7666\n",
            "Epoch 10/100\n",
            "94/94 [==============================] - 0s 5ms/step - loss: 0.4795 - accuracy: 0.7679\n",
            "Epoch 11/100\n",
            "94/94 [==============================] - 0s 5ms/step - loss: 0.4775 - accuracy: 0.7659\n",
            "Epoch 12/100\n",
            "94/94 [==============================] - 0s 5ms/step - loss: 0.4758 - accuracy: 0.7686\n",
            "Epoch 13/100\n",
            "94/94 [==============================] - 0s 5ms/step - loss: 0.4750 - accuracy: 0.7739\n",
            "Epoch 14/100\n",
            "94/94 [==============================] - 0s 5ms/step - loss: 0.4744 - accuracy: 0.7706\n",
            "Epoch 15/100\n",
            "94/94 [==============================] - 0s 5ms/step - loss: 0.4721 - accuracy: 0.7699\n",
            "Epoch 16/100\n",
            "94/94 [==============================] - 0s 5ms/step - loss: 0.4715 - accuracy: 0.7722\n",
            "Epoch 17/100\n",
            "94/94 [==============================] - 0s 3ms/step - loss: 0.4695 - accuracy: 0.7732\n",
            "Epoch 18/100\n",
            "94/94 [==============================] - 0s 4ms/step - loss: 0.4682 - accuracy: 0.7729\n",
            "Epoch 19/100\n",
            "94/94 [==============================] - 0s 3ms/step - loss: 0.4686 - accuracy: 0.7739\n",
            "Epoch 20/100\n",
            "94/94 [==============================] - 0s 4ms/step - loss: 0.4657 - accuracy: 0.7786\n",
            "Epoch 21/100\n",
            "94/94 [==============================] - 0s 4ms/step - loss: 0.4646 - accuracy: 0.7756\n",
            "Epoch 22/100\n",
            "94/94 [==============================] - 0s 3ms/step - loss: 0.4645 - accuracy: 0.7763\n",
            "Epoch 23/100\n",
            "94/94 [==============================] - 0s 5ms/step - loss: 0.4628 - accuracy: 0.7763\n",
            "Epoch 24/100\n",
            "94/94 [==============================] - 1s 6ms/step - loss: 0.4618 - accuracy: 0.7769\n",
            "Epoch 25/100\n",
            "94/94 [==============================] - 0s 5ms/step - loss: 0.4610 - accuracy: 0.7806\n",
            "Epoch 26/100\n",
            "94/94 [==============================] - 0s 4ms/step - loss: 0.4593 - accuracy: 0.7796\n",
            "Epoch 27/100\n",
            "94/94 [==============================] - 0s 3ms/step - loss: 0.4588 - accuracy: 0.7786\n",
            "Epoch 28/100\n",
            "94/94 [==============================] - 0s 3ms/step - loss: 0.4576 - accuracy: 0.7786\n",
            "Epoch 29/100\n",
            "94/94 [==============================] - 0s 3ms/step - loss: 0.4561 - accuracy: 0.7819\n",
            "Epoch 30/100\n",
            "94/94 [==============================] - 0s 4ms/step - loss: 0.4562 - accuracy: 0.7836\n",
            "Epoch 31/100\n",
            "94/94 [==============================] - 0s 4ms/step - loss: 0.4550 - accuracy: 0.7773\n",
            "Epoch 32/100\n",
            "94/94 [==============================] - 0s 4ms/step - loss: 0.4531 - accuracy: 0.7816\n",
            "Epoch 33/100\n",
            "94/94 [==============================] - 0s 3ms/step - loss: 0.4533 - accuracy: 0.7823\n",
            "Epoch 34/100\n",
            "94/94 [==============================] - 0s 3ms/step - loss: 0.4531 - accuracy: 0.7796\n",
            "Epoch 35/100\n",
            "94/94 [==============================] - 0s 4ms/step - loss: 0.4512 - accuracy: 0.7823\n",
            "Epoch 36/100\n",
            "94/94 [==============================] - 0s 5ms/step - loss: 0.4511 - accuracy: 0.7853\n",
            "Epoch 37/100\n",
            "94/94 [==============================] - 0s 4ms/step - loss: 0.4495 - accuracy: 0.7856\n",
            "Epoch 38/100\n",
            "94/94 [==============================] - 0s 3ms/step - loss: 0.4473 - accuracy: 0.7849\n",
            "Epoch 39/100\n",
            "94/94 [==============================] - 0s 5ms/step - loss: 0.4489 - accuracy: 0.7893\n",
            "Epoch 40/100\n",
            "94/94 [==============================] - 0s 5ms/step - loss: 0.4469 - accuracy: 0.7876\n",
            "Epoch 41/100\n",
            "94/94 [==============================] - 0s 5ms/step - loss: 0.4466 - accuracy: 0.7863\n",
            "Epoch 42/100\n",
            "94/94 [==============================] - 0s 5ms/step - loss: 0.4452 - accuracy: 0.7900\n",
            "Epoch 43/100\n",
            "94/94 [==============================] - 0s 4ms/step - loss: 0.4458 - accuracy: 0.7863\n",
            "Epoch 44/100\n",
            "94/94 [==============================] - 0s 4ms/step - loss: 0.4443 - accuracy: 0.7916\n",
            "Epoch 45/100\n",
            "94/94 [==============================] - 0s 5ms/step - loss: 0.4440 - accuracy: 0.7880\n",
            "Epoch 46/100\n",
            "94/94 [==============================] - 0s 5ms/step - loss: 0.4426 - accuracy: 0.7896\n",
            "Epoch 47/100\n",
            "94/94 [==============================] - 0s 5ms/step - loss: 0.4419 - accuracy: 0.7910\n",
            "Epoch 48/100\n",
            "94/94 [==============================] - 0s 4ms/step - loss: 0.4416 - accuracy: 0.7933\n",
            "Epoch 49/100\n",
            "94/94 [==============================] - 0s 4ms/step - loss: 0.4413 - accuracy: 0.7903\n",
            "Epoch 50/100\n",
            "94/94 [==============================] - 0s 5ms/step - loss: 0.4403 - accuracy: 0.7940\n",
            "Epoch 51/100\n",
            "94/94 [==============================] - 0s 5ms/step - loss: 0.4396 - accuracy: 0.7936\n",
            "Epoch 52/100\n",
            "94/94 [==============================] - 0s 5ms/step - loss: 0.4395 - accuracy: 0.7943\n",
            "Epoch 53/100\n",
            "94/94 [==============================] - 0s 5ms/step - loss: 0.4372 - accuracy: 0.7960\n",
            "Epoch 54/100\n",
            "94/94 [==============================] - 0s 5ms/step - loss: 0.4375 - accuracy: 0.7930\n",
            "Epoch 55/100\n",
            "94/94 [==============================] - 0s 4ms/step - loss: 0.4364 - accuracy: 0.7967\n",
            "Epoch 56/100\n",
            "94/94 [==============================] - 0s 4ms/step - loss: 0.4384 - accuracy: 0.7913\n",
            "Epoch 57/100\n",
            "94/94 [==============================] - 0s 4ms/step - loss: 0.4379 - accuracy: 0.7960\n",
            "Epoch 58/100\n",
            "94/94 [==============================] - 0s 4ms/step - loss: 0.4347 - accuracy: 0.7967\n",
            "Epoch 59/100\n",
            "94/94 [==============================] - 0s 4ms/step - loss: 0.4346 - accuracy: 0.7980\n",
            "Epoch 60/100\n",
            "94/94 [==============================] - 1s 5ms/step - loss: 0.4340 - accuracy: 0.8000\n",
            "Epoch 61/100\n",
            "94/94 [==============================] - 0s 5ms/step - loss: 0.4334 - accuracy: 0.7946\n",
            "Epoch 62/100\n",
            "94/94 [==============================] - 0s 4ms/step - loss: 0.4318 - accuracy: 0.8030\n",
            "Epoch 63/100\n",
            "94/94 [==============================] - 0s 3ms/step - loss: 0.4336 - accuracy: 0.8070\n",
            "Epoch 64/100\n",
            "94/94 [==============================] - 0s 3ms/step - loss: 0.4307 - accuracy: 0.7990\n",
            "Epoch 65/100\n",
            "94/94 [==============================] - 0s 3ms/step - loss: 0.4320 - accuracy: 0.7987\n",
            "Epoch 66/100\n",
            "94/94 [==============================] - 0s 3ms/step - loss: 0.4295 - accuracy: 0.8007\n",
            "Epoch 67/100\n",
            "94/94 [==============================] - 0s 3ms/step - loss: 0.4297 - accuracy: 0.7993\n",
            "Epoch 68/100\n",
            "94/94 [==============================] - 0s 4ms/step - loss: 0.4286 - accuracy: 0.7990\n",
            "Epoch 69/100\n",
            "94/94 [==============================] - 0s 4ms/step - loss: 0.4298 - accuracy: 0.8007\n",
            "Epoch 70/100\n",
            "94/94 [==============================] - 0s 4ms/step - loss: 0.4283 - accuracy: 0.8000\n",
            "Epoch 71/100\n",
            "94/94 [==============================] - 0s 4ms/step - loss: 0.4274 - accuracy: 0.8057\n",
            "Epoch 72/100\n",
            "94/94 [==============================] - 0s 4ms/step - loss: 0.4257 - accuracy: 0.8017\n",
            "Epoch 73/100\n",
            "94/94 [==============================] - 0s 4ms/step - loss: 0.4254 - accuracy: 0.8037\n",
            "Epoch 74/100\n",
            "94/94 [==============================] - 0s 4ms/step - loss: 0.4271 - accuracy: 0.8017\n",
            "Epoch 75/100\n",
            "94/94 [==============================] - 0s 4ms/step - loss: 0.4253 - accuracy: 0.8010\n",
            "Epoch 76/100\n",
            "94/94 [==============================] - 0s 5ms/step - loss: 0.4267 - accuracy: 0.8017\n",
            "Epoch 77/100\n",
            "94/94 [==============================] - 0s 5ms/step - loss: 0.4233 - accuracy: 0.8013\n",
            "Epoch 78/100\n",
            "94/94 [==============================] - 0s 4ms/step - loss: 0.4240 - accuracy: 0.8007\n",
            "Epoch 79/100\n",
            "94/94 [==============================] - 0s 4ms/step - loss: 0.4239 - accuracy: 0.8060\n",
            "Epoch 80/100\n",
            "94/94 [==============================] - 0s 3ms/step - loss: 0.4214 - accuracy: 0.8050\n",
            "Epoch 81/100\n",
            "94/94 [==============================] - 0s 4ms/step - loss: 0.4227 - accuracy: 0.8020\n",
            "Epoch 82/100\n",
            "94/94 [==============================] - 0s 4ms/step - loss: 0.4219 - accuracy: 0.8054\n",
            "Epoch 83/100\n",
            "94/94 [==============================] - 0s 4ms/step - loss: 0.4225 - accuracy: 0.8037\n",
            "Epoch 84/100\n",
            "94/94 [==============================] - 0s 4ms/step - loss: 0.4214 - accuracy: 0.8070\n",
            "Epoch 85/100\n",
            "94/94 [==============================] - 0s 4ms/step - loss: 0.4193 - accuracy: 0.8047\n",
            "Epoch 86/100\n",
            "94/94 [==============================] - 0s 4ms/step - loss: 0.4183 - accuracy: 0.8050\n",
            "Epoch 87/100\n",
            "94/94 [==============================] - 0s 4ms/step - loss: 0.4166 - accuracy: 0.8137\n",
            "Epoch 88/100\n",
            "94/94 [==============================] - 0s 4ms/step - loss: 0.4172 - accuracy: 0.8074\n",
            "Epoch 89/100\n",
            "94/94 [==============================] - 0s 5ms/step - loss: 0.4180 - accuracy: 0.8077\n",
            "Epoch 90/100\n",
            "94/94 [==============================] - 0s 4ms/step - loss: 0.4165 - accuracy: 0.8070\n",
            "Epoch 91/100\n",
            "94/94 [==============================] - 0s 4ms/step - loss: 0.4151 - accuracy: 0.8114\n",
            "Epoch 92/100\n",
            "94/94 [==============================] - 0s 5ms/step - loss: 0.4157 - accuracy: 0.8164\n",
            "Epoch 93/100\n",
            "94/94 [==============================] - 0s 4ms/step - loss: 0.4160 - accuracy: 0.8074\n",
            "Epoch 94/100\n",
            "94/94 [==============================] - 0s 5ms/step - loss: 0.4140 - accuracy: 0.8154\n",
            "Epoch 95/100\n",
            "94/94 [==============================] - 0s 3ms/step - loss: 0.4146 - accuracy: 0.8114\n",
            "Epoch 96/100\n",
            "94/94 [==============================] - 0s 3ms/step - loss: 0.4134 - accuracy: 0.8077\n",
            "Epoch 97/100\n",
            "94/94 [==============================] - 0s 3ms/step - loss: 0.4147 - accuracy: 0.8067\n",
            "Epoch 98/100\n",
            "94/94 [==============================] - 0s 3ms/step - loss: 0.4111 - accuracy: 0.8124\n",
            "Epoch 99/100\n",
            "94/94 [==============================] - 0s 3ms/step - loss: 0.4122 - accuracy: 0.8070\n",
            "Epoch 100/100\n",
            "94/94 [==============================] - 0s 3ms/step - loss: 0.4117 - accuracy: 0.8107\n",
            "44/44 [==============================] - 0s 2ms/step - loss: 0.5459 - accuracy: 0.7356\n",
            "[0.545947790145874, 0.7356076836585999]\n",
            "Classification Report : \n",
            "               precision    recall  f1-score   support\n",
            "\n",
            "           0       0.91      0.71      0.80      1033\n",
            "           1       0.50      0.80      0.62       374\n",
            "\n",
            "    accuracy                           0.74      1407\n",
            "   macro avg       0.70      0.76      0.71      1407\n",
            "weighted avg       0.80      0.74      0.75      1407\n",
            "\n"
          ]
        }
      ]
    },
    {
      "cell_type": "code",
      "source": [
        "X_train, y_train = get_train_batch(df3_class0, df3_class1, 2990, 4130)\n",
        "y_pred3 = ANN(X_train, y_train, X_test, y_test, 'binary_crossentropy', -1)"
      ],
      "metadata": {
        "colab": {
          "base_uri": "https://localhost:8080/"
        },
        "id": "xHkAdOT3MbEv",
        "outputId": "bf165140-8eca-463e-f147-1a02f6e60b1f"
      },
      "execution_count": null,
      "outputs": [
        {
          "output_type": "stream",
          "name": "stdout",
          "text": [
            "Epoch 1/100\n",
            "83/83 [==============================] - 1s 3ms/step - loss: 0.6288 - accuracy: 0.6603\n",
            "Epoch 2/100\n",
            "83/83 [==============================] - 0s 3ms/step - loss: 0.5223 - accuracy: 0.7609\n",
            "Epoch 3/100\n",
            "83/83 [==============================] - 0s 3ms/step - loss: 0.4966 - accuracy: 0.7693\n",
            "Epoch 4/100\n",
            "83/83 [==============================] - 0s 3ms/step - loss: 0.4878 - accuracy: 0.7719\n",
            "Epoch 5/100\n",
            "83/83 [==============================] - 0s 3ms/step - loss: 0.4813 - accuracy: 0.7784\n",
            "Epoch 6/100\n",
            "83/83 [==============================] - 0s 3ms/step - loss: 0.4762 - accuracy: 0.7761\n",
            "Epoch 7/100\n",
            "83/83 [==============================] - 0s 3ms/step - loss: 0.4742 - accuracy: 0.7799\n",
            "Epoch 8/100\n",
            "83/83 [==============================] - 0s 3ms/step - loss: 0.4707 - accuracy: 0.7810\n",
            "Epoch 9/100\n",
            "83/83 [==============================] - 0s 3ms/step - loss: 0.4686 - accuracy: 0.7772\n",
            "Epoch 10/100\n",
            "83/83 [==============================] - 0s 3ms/step - loss: 0.4678 - accuracy: 0.7841\n",
            "Epoch 11/100\n",
            "83/83 [==============================] - 0s 3ms/step - loss: 0.4651 - accuracy: 0.7787\n",
            "Epoch 12/100\n",
            "83/83 [==============================] - 0s 3ms/step - loss: 0.4648 - accuracy: 0.7829\n",
            "Epoch 13/100\n",
            "83/83 [==============================] - 0s 3ms/step - loss: 0.4629 - accuracy: 0.7825\n",
            "Epoch 14/100\n",
            "83/83 [==============================] - 0s 3ms/step - loss: 0.4606 - accuracy: 0.7841\n",
            "Epoch 15/100\n",
            "83/83 [==============================] - 0s 3ms/step - loss: 0.4615 - accuracy: 0.7841\n",
            "Epoch 16/100\n",
            "83/83 [==============================] - 0s 3ms/step - loss: 0.4586 - accuracy: 0.7852\n",
            "Epoch 17/100\n",
            "83/83 [==============================] - 0s 3ms/step - loss: 0.4622 - accuracy: 0.7803\n",
            "Epoch 18/100\n",
            "83/83 [==============================] - 0s 3ms/step - loss: 0.4573 - accuracy: 0.7822\n",
            "Epoch 19/100\n",
            "83/83 [==============================] - 0s 3ms/step - loss: 0.4562 - accuracy: 0.7886\n",
            "Epoch 20/100\n",
            "83/83 [==============================] - 0s 3ms/step - loss: 0.4553 - accuracy: 0.7871\n",
            "Epoch 21/100\n",
            "83/83 [==============================] - 0s 3ms/step - loss: 0.4547 - accuracy: 0.7860\n",
            "Epoch 22/100\n",
            "83/83 [==============================] - 0s 3ms/step - loss: 0.4531 - accuracy: 0.7871\n",
            "Epoch 23/100\n",
            "83/83 [==============================] - 0s 3ms/step - loss: 0.4526 - accuracy: 0.7856\n",
            "Epoch 24/100\n",
            "83/83 [==============================] - 0s 3ms/step - loss: 0.4513 - accuracy: 0.7844\n",
            "Epoch 25/100\n",
            "83/83 [==============================] - 0s 3ms/step - loss: 0.4495 - accuracy: 0.7882\n",
            "Epoch 26/100\n",
            "83/83 [==============================] - 0s 3ms/step - loss: 0.4485 - accuracy: 0.7890\n",
            "Epoch 27/100\n",
            "83/83 [==============================] - 0s 3ms/step - loss: 0.4471 - accuracy: 0.7898\n",
            "Epoch 28/100\n",
            "83/83 [==============================] - 0s 3ms/step - loss: 0.4457 - accuracy: 0.7920\n",
            "Epoch 29/100\n",
            "83/83 [==============================] - 0s 3ms/step - loss: 0.4450 - accuracy: 0.7913\n",
            "Epoch 30/100\n",
            "83/83 [==============================] - 0s 3ms/step - loss: 0.4476 - accuracy: 0.7871\n",
            "Epoch 31/100\n",
            "83/83 [==============================] - 0s 3ms/step - loss: 0.4431 - accuracy: 0.7894\n",
            "Epoch 32/100\n",
            "83/83 [==============================] - 0s 3ms/step - loss: 0.4412 - accuracy: 0.7905\n",
            "Epoch 33/100\n",
            "83/83 [==============================] - 0s 3ms/step - loss: 0.4394 - accuracy: 0.7954\n",
            "Epoch 34/100\n",
            "83/83 [==============================] - 0s 3ms/step - loss: 0.4394 - accuracy: 0.7901\n",
            "Epoch 35/100\n",
            "83/83 [==============================] - 0s 3ms/step - loss: 0.4393 - accuracy: 0.7935\n",
            "Epoch 36/100\n",
            "83/83 [==============================] - 0s 3ms/step - loss: 0.4372 - accuracy: 0.7947\n",
            "Epoch 37/100\n",
            "83/83 [==============================] - 0s 3ms/step - loss: 0.4376 - accuracy: 0.7935\n",
            "Epoch 38/100\n",
            "83/83 [==============================] - 0s 4ms/step - loss: 0.4358 - accuracy: 0.7890\n",
            "Epoch 39/100\n",
            "83/83 [==============================] - 0s 4ms/step - loss: 0.4338 - accuracy: 0.7932\n",
            "Epoch 40/100\n",
            "83/83 [==============================] - 0s 4ms/step - loss: 0.4336 - accuracy: 0.7939\n",
            "Epoch 41/100\n",
            "83/83 [==============================] - 0s 3ms/step - loss: 0.4329 - accuracy: 0.7966\n",
            "Epoch 42/100\n",
            "83/83 [==============================] - 0s 5ms/step - loss: 0.4309 - accuracy: 0.8008\n",
            "Epoch 43/100\n",
            "83/83 [==============================] - 0s 3ms/step - loss: 0.4306 - accuracy: 0.7996\n",
            "Epoch 44/100\n",
            "83/83 [==============================] - 0s 3ms/step - loss: 0.4293 - accuracy: 0.7985\n",
            "Epoch 45/100\n",
            "83/83 [==============================] - 0s 3ms/step - loss: 0.4278 - accuracy: 0.7932\n",
            "Epoch 46/100\n",
            "83/83 [==============================] - 0s 3ms/step - loss: 0.4271 - accuracy: 0.7977\n",
            "Epoch 47/100\n",
            "83/83 [==============================] - 0s 4ms/step - loss: 0.4261 - accuracy: 0.7962\n",
            "Epoch 48/100\n",
            "83/83 [==============================] - 0s 3ms/step - loss: 0.4263 - accuracy: 0.7981\n",
            "Epoch 49/100\n",
            "83/83 [==============================] - 0s 4ms/step - loss: 0.4249 - accuracy: 0.7996\n",
            "Epoch 50/100\n",
            "83/83 [==============================] - 0s 4ms/step - loss: 0.4244 - accuracy: 0.8000\n",
            "Epoch 51/100\n",
            "83/83 [==============================] - 0s 3ms/step - loss: 0.4229 - accuracy: 0.8065\n",
            "Epoch 52/100\n",
            "83/83 [==============================] - 0s 3ms/step - loss: 0.4211 - accuracy: 0.7996\n",
            "Epoch 53/100\n",
            "83/83 [==============================] - 0s 3ms/step - loss: 0.4200 - accuracy: 0.8027\n",
            "Epoch 54/100\n",
            "83/83 [==============================] - 0s 4ms/step - loss: 0.4196 - accuracy: 0.8038\n",
            "Epoch 55/100\n",
            "83/83 [==============================] - 0s 3ms/step - loss: 0.4218 - accuracy: 0.8008\n",
            "Epoch 56/100\n",
            "83/83 [==============================] - 0s 3ms/step - loss: 0.4201 - accuracy: 0.7970\n",
            "Epoch 57/100\n",
            "83/83 [==============================] - 0s 4ms/step - loss: 0.4181 - accuracy: 0.8042\n",
            "Epoch 58/100\n",
            "83/83 [==============================] - 0s 4ms/step - loss: 0.4180 - accuracy: 0.8046\n",
            "Epoch 59/100\n",
            "83/83 [==============================] - 0s 4ms/step - loss: 0.4148 - accuracy: 0.8110\n",
            "Epoch 60/100\n",
            "83/83 [==============================] - 0s 3ms/step - loss: 0.4158 - accuracy: 0.8080\n",
            "Epoch 61/100\n",
            "83/83 [==============================] - 0s 3ms/step - loss: 0.4169 - accuracy: 0.8053\n",
            "Epoch 62/100\n",
            "83/83 [==============================] - 0s 3ms/step - loss: 0.4151 - accuracy: 0.8042\n",
            "Epoch 63/100\n",
            "83/83 [==============================] - 0s 5ms/step - loss: 0.4118 - accuracy: 0.8087\n",
            "Epoch 64/100\n",
            "83/83 [==============================] - 0s 5ms/step - loss: 0.4138 - accuracy: 0.8049\n",
            "Epoch 65/100\n",
            "83/83 [==============================] - 1s 7ms/step - loss: 0.4121 - accuracy: 0.8121\n",
            "Epoch 66/100\n",
            "83/83 [==============================] - 0s 3ms/step - loss: 0.4113 - accuracy: 0.8106\n",
            "Epoch 67/100\n",
            "83/83 [==============================] - 0s 4ms/step - loss: 0.4111 - accuracy: 0.8118\n",
            "Epoch 68/100\n",
            "83/83 [==============================] - 0s 4ms/step - loss: 0.4099 - accuracy: 0.8095\n",
            "Epoch 69/100\n",
            "83/83 [==============================] - 0s 5ms/step - loss: 0.4083 - accuracy: 0.8129\n",
            "Epoch 70/100\n",
            "83/83 [==============================] - 0s 4ms/step - loss: 0.4078 - accuracy: 0.8121\n",
            "Epoch 71/100\n",
            "83/83 [==============================] - 0s 4ms/step - loss: 0.4083 - accuracy: 0.8106\n",
            "Epoch 72/100\n",
            "83/83 [==============================] - 0s 3ms/step - loss: 0.4065 - accuracy: 0.8144\n",
            "Epoch 73/100\n",
            "83/83 [==============================] - 0s 5ms/step - loss: 0.4071 - accuracy: 0.8137\n",
            "Epoch 74/100\n",
            "83/83 [==============================] - 0s 5ms/step - loss: 0.4065 - accuracy: 0.8121\n",
            "Epoch 75/100\n",
            "83/83 [==============================] - 0s 5ms/step - loss: 0.4055 - accuracy: 0.8140\n",
            "Epoch 76/100\n",
            "83/83 [==============================] - 0s 5ms/step - loss: 0.4047 - accuracy: 0.8156\n",
            "Epoch 77/100\n",
            "83/83 [==============================] - 0s 5ms/step - loss: 0.4043 - accuracy: 0.8102\n",
            "Epoch 78/100\n",
            "83/83 [==============================] - 0s 5ms/step - loss: 0.4041 - accuracy: 0.8152\n",
            "Epoch 79/100\n",
            "83/83 [==============================] - 0s 5ms/step - loss: 0.4022 - accuracy: 0.8137\n",
            "Epoch 80/100\n",
            "83/83 [==============================] - 0s 5ms/step - loss: 0.4020 - accuracy: 0.8186\n",
            "Epoch 81/100\n",
            "83/83 [==============================] - 0s 5ms/step - loss: 0.4024 - accuracy: 0.8190\n",
            "Epoch 82/100\n",
            "83/83 [==============================] - 0s 5ms/step - loss: 0.4020 - accuracy: 0.8129\n",
            "Epoch 83/100\n",
            "83/83 [==============================] - 0s 5ms/step - loss: 0.4027 - accuracy: 0.8129\n",
            "Epoch 84/100\n",
            "83/83 [==============================] - 0s 5ms/step - loss: 0.3999 - accuracy: 0.8156\n",
            "Epoch 85/100\n",
            "83/83 [==============================] - 0s 4ms/step - loss: 0.4011 - accuracy: 0.8144\n",
            "Epoch 86/100\n",
            "83/83 [==============================] - 0s 4ms/step - loss: 0.3987 - accuracy: 0.8152\n",
            "Epoch 87/100\n",
            "83/83 [==============================] - 0s 5ms/step - loss: 0.3990 - accuracy: 0.8205\n",
            "Epoch 88/100\n",
            "83/83 [==============================] - 0s 5ms/step - loss: 0.3993 - accuracy: 0.8140\n",
            "Epoch 89/100\n",
            "83/83 [==============================] - 0s 4ms/step - loss: 0.3987 - accuracy: 0.8186\n",
            "Epoch 90/100\n",
            "83/83 [==============================] - 0s 4ms/step - loss: 0.3968 - accuracy: 0.8190\n",
            "Epoch 91/100\n",
            "83/83 [==============================] - 0s 4ms/step - loss: 0.3962 - accuracy: 0.8201\n",
            "Epoch 92/100\n",
            "83/83 [==============================] - 0s 5ms/step - loss: 0.3969 - accuracy: 0.8205\n",
            "Epoch 93/100\n",
            "83/83 [==============================] - 0s 4ms/step - loss: 0.3942 - accuracy: 0.8201\n",
            "Epoch 94/100\n",
            "83/83 [==============================] - 0s 4ms/step - loss: 0.3950 - accuracy: 0.8209\n",
            "Epoch 95/100\n",
            "83/83 [==============================] - 0s 4ms/step - loss: 0.3945 - accuracy: 0.8190\n",
            "Epoch 96/100\n",
            "83/83 [==============================] - 0s 5ms/step - loss: 0.3938 - accuracy: 0.8209\n",
            "Epoch 97/100\n",
            "83/83 [==============================] - 0s 5ms/step - loss: 0.3934 - accuracy: 0.8167\n",
            "Epoch 98/100\n",
            "83/83 [==============================] - 0s 4ms/step - loss: 0.3912 - accuracy: 0.8231\n",
            "Epoch 99/100\n",
            "83/83 [==============================] - 0s 5ms/step - loss: 0.3919 - accuracy: 0.8209\n",
            "Epoch 100/100\n",
            "83/83 [==============================] - 0s 5ms/step - loss: 0.3906 - accuracy: 0.8258\n",
            "44/44 [==============================] - 0s 2ms/step - loss: 0.6107 - accuracy: 0.7164\n",
            "[0.6106927394866943, 0.7164179086685181]\n",
            "Classification Report : \n",
            "               precision    recall  f1-score   support\n",
            "\n",
            "           0       0.92      0.67      0.78      1033\n",
            "           1       0.48      0.84      0.61       374\n",
            "\n",
            "    accuracy                           0.72      1407\n",
            "   macro avg       0.70      0.76      0.69      1407\n",
            "weighted avg       0.80      0.72      0.73      1407\n",
            "\n"
          ]
        }
      ]
    },
    {
      "cell_type": "code",
      "source": [
        "y_pred_final  = y_pred1.copy()\n",
        "for i in range(len(y_pred1)):\n",
        "    n_ones = y_pred1[i] + y_pred2[i] + y_pred3[i]\n",
        "    if n_ones > 1:\n",
        "        y_pred_final[i] = 1\n",
        "    else:\n",
        "        y_pred_final[i] = 0"
      ],
      "metadata": {
        "id": "agH2B9pKMh_R"
      },
      "execution_count": null,
      "outputs": []
    },
    {
      "cell_type": "code",
      "source": [
        "print(classification_report(y_test, y_pred_final))"
      ],
      "metadata": {
        "colab": {
          "base_uri": "https://localhost:8080/"
        },
        "id": "1YnUg9AlNdqZ",
        "outputId": "35a04aa3-ee78-44a2-ad89-9155133493ad"
      },
      "execution_count": null,
      "outputs": [
        {
          "output_type": "stream",
          "name": "stdout",
          "text": [
            "              precision    recall  f1-score   support\n",
            "\n",
            "           0       0.90      0.71      0.79      1033\n",
            "           1       0.49      0.79      0.61       374\n",
            "\n",
            "    accuracy                           0.73      1407\n",
            "   macro avg       0.70      0.75      0.70      1407\n",
            "weighted avg       0.79      0.73      0.74      1407\n",
            "\n"
          ]
        }
      ]
    },
    {
      "cell_type": "code",
      "source": [
        ""
      ],
      "metadata": {
        "id": "eFmdbNwnNnRB"
      },
      "execution_count": null,
      "outputs": []
    }
  ]
}