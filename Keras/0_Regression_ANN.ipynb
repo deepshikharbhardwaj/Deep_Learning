{
  "nbformat": 4,
  "nbformat_minor": 0,
  "metadata": {
    "colab": {
      "name": "0_Regression_ANN.ipynb",
      "provenance": [],
      "collapsed_sections": []
    },
    "kernelspec": {
      "name": "python3",
      "display_name": "Python 3"
    },
    "language_info": {
      "name": "python"
    },
    "accelerator": "GPU"
  },
  "cells": [
    {
      "cell_type": "markdown",
      "source": [
        "#Essential Library"
      ],
      "metadata": {
        "id": "PAkgUd-Dgsga"
      }
    },
    {
      "cell_type": "code",
      "source": [
        "from sklearn.model_selection import train_test_split\n",
        "import keras\n",
        "from keras.models import Sequential\n",
        "from keras.layers import Dense\n",
        "import numpy as np\n",
        "import pandas as pd\n",
        "from keras import optimizer_v2"
      ],
      "metadata": {
        "id": "7aRULVoQawaY"
      },
      "execution_count": 26,
      "outputs": []
    },
    {
      "cell_type": "markdown",
      "source": [
        "#Regression"
      ],
      "metadata": {
        "id": "NFrhnLqnXfee"
      }
    },
    {
      "cell_type": "code",
      "source": [
        "url='https://raw.githubusercontent.com/ShantanuVidwans/sequential_regression_model/master/data.csv'\n",
        "df=pd.read_csv(url)\n",
        "df"
      ],
      "metadata": {
        "colab": {
          "base_uri": "https://localhost:8080/",
          "height": 423
        },
        "id": "VOkhzCq3Xgtd",
        "outputId": "44180232-8356-4b37-c2e9-6114c99d46a7"
      },
      "execution_count": 27,
      "outputs": [
        {
          "output_type": "execute_result",
          "data": {
            "text/html": [
              "\n",
              "  <div id=\"df-f0196eb8-2102-4ca7-b8ba-00724f68a0e2\">\n",
              "    <div class=\"colab-df-container\">\n",
              "      <div>\n",
              "<style scoped>\n",
              "    .dataframe tbody tr th:only-of-type {\n",
              "        vertical-align: middle;\n",
              "    }\n",
              "\n",
              "    .dataframe tbody tr th {\n",
              "        vertical-align: top;\n",
              "    }\n",
              "\n",
              "    .dataframe thead th {\n",
              "        text-align: right;\n",
              "    }\n",
              "</style>\n",
              "<table border=\"1\" class=\"dataframe\">\n",
              "  <thead>\n",
              "    <tr style=\"text-align: right;\">\n",
              "      <th></th>\n",
              "      <th>x</th>\n",
              "      <th>y</th>\n",
              "    </tr>\n",
              "  </thead>\n",
              "  <tbody>\n",
              "    <tr>\n",
              "      <th>0</th>\n",
              "      <td>77</td>\n",
              "      <td>79.775152</td>\n",
              "    </tr>\n",
              "    <tr>\n",
              "      <th>1</th>\n",
              "      <td>21</td>\n",
              "      <td>23.177279</td>\n",
              "    </tr>\n",
              "    <tr>\n",
              "      <th>2</th>\n",
              "      <td>22</td>\n",
              "      <td>25.609262</td>\n",
              "    </tr>\n",
              "    <tr>\n",
              "      <th>3</th>\n",
              "      <td>20</td>\n",
              "      <td>17.857388</td>\n",
              "    </tr>\n",
              "    <tr>\n",
              "      <th>4</th>\n",
              "      <td>36</td>\n",
              "      <td>41.849864</td>\n",
              "    </tr>\n",
              "    <tr>\n",
              "      <th>...</th>\n",
              "      <td>...</td>\n",
              "      <td>...</td>\n",
              "    </tr>\n",
              "    <tr>\n",
              "      <th>295</th>\n",
              "      <td>71</td>\n",
              "      <td>68.545888</td>\n",
              "    </tr>\n",
              "    <tr>\n",
              "      <th>296</th>\n",
              "      <td>46</td>\n",
              "      <td>47.334876</td>\n",
              "    </tr>\n",
              "    <tr>\n",
              "      <th>297</th>\n",
              "      <td>55</td>\n",
              "      <td>54.090637</td>\n",
              "    </tr>\n",
              "    <tr>\n",
              "      <th>298</th>\n",
              "      <td>62</td>\n",
              "      <td>63.297171</td>\n",
              "    </tr>\n",
              "    <tr>\n",
              "      <th>299</th>\n",
              "      <td>47</td>\n",
              "      <td>52.459467</td>\n",
              "    </tr>\n",
              "  </tbody>\n",
              "</table>\n",
              "<p>300 rows × 2 columns</p>\n",
              "</div>\n",
              "      <button class=\"colab-df-convert\" onclick=\"convertToInteractive('df-f0196eb8-2102-4ca7-b8ba-00724f68a0e2')\"\n",
              "              title=\"Convert this dataframe to an interactive table.\"\n",
              "              style=\"display:none;\">\n",
              "        \n",
              "  <svg xmlns=\"http://www.w3.org/2000/svg\" height=\"24px\"viewBox=\"0 0 24 24\"\n",
              "       width=\"24px\">\n",
              "    <path d=\"M0 0h24v24H0V0z\" fill=\"none\"/>\n",
              "    <path d=\"M18.56 5.44l.94 2.06.94-2.06 2.06-.94-2.06-.94-.94-2.06-.94 2.06-2.06.94zm-11 1L8.5 8.5l.94-2.06 2.06-.94-2.06-.94L8.5 2.5l-.94 2.06-2.06.94zm10 10l.94 2.06.94-2.06 2.06-.94-2.06-.94-.94-2.06-.94 2.06-2.06.94z\"/><path d=\"M17.41 7.96l-1.37-1.37c-.4-.4-.92-.59-1.43-.59-.52 0-1.04.2-1.43.59L10.3 9.45l-7.72 7.72c-.78.78-.78 2.05 0 2.83L4 21.41c.39.39.9.59 1.41.59.51 0 1.02-.2 1.41-.59l7.78-7.78 2.81-2.81c.8-.78.8-2.07 0-2.86zM5.41 20L4 18.59l7.72-7.72 1.47 1.35L5.41 20z\"/>\n",
              "  </svg>\n",
              "      </button>\n",
              "      \n",
              "  <style>\n",
              "    .colab-df-container {\n",
              "      display:flex;\n",
              "      flex-wrap:wrap;\n",
              "      gap: 12px;\n",
              "    }\n",
              "\n",
              "    .colab-df-convert {\n",
              "      background-color: #E8F0FE;\n",
              "      border: none;\n",
              "      border-radius: 50%;\n",
              "      cursor: pointer;\n",
              "      display: none;\n",
              "      fill: #1967D2;\n",
              "      height: 32px;\n",
              "      padding: 0 0 0 0;\n",
              "      width: 32px;\n",
              "    }\n",
              "\n",
              "    .colab-df-convert:hover {\n",
              "      background-color: #E2EBFA;\n",
              "      box-shadow: 0px 1px 2px rgba(60, 64, 67, 0.3), 0px 1px 3px 1px rgba(60, 64, 67, 0.15);\n",
              "      fill: #174EA6;\n",
              "    }\n",
              "\n",
              "    [theme=dark] .colab-df-convert {\n",
              "      background-color: #3B4455;\n",
              "      fill: #D2E3FC;\n",
              "    }\n",
              "\n",
              "    [theme=dark] .colab-df-convert:hover {\n",
              "      background-color: #434B5C;\n",
              "      box-shadow: 0px 1px 3px 1px rgba(0, 0, 0, 0.15);\n",
              "      filter: drop-shadow(0px 1px 2px rgba(0, 0, 0, 0.3));\n",
              "      fill: #FFFFFF;\n",
              "    }\n",
              "  </style>\n",
              "\n",
              "      <script>\n",
              "        const buttonEl =\n",
              "          document.querySelector('#df-f0196eb8-2102-4ca7-b8ba-00724f68a0e2 button.colab-df-convert');\n",
              "        buttonEl.style.display =\n",
              "          google.colab.kernel.accessAllowed ? 'block' : 'none';\n",
              "\n",
              "        async function convertToInteractive(key) {\n",
              "          const element = document.querySelector('#df-f0196eb8-2102-4ca7-b8ba-00724f68a0e2');\n",
              "          const dataTable =\n",
              "            await google.colab.kernel.invokeFunction('convertToInteractive',\n",
              "                                                     [key], {});\n",
              "          if (!dataTable) return;\n",
              "\n",
              "          const docLinkHtml = 'Like what you see? Visit the ' +\n",
              "            '<a target=\"_blank\" href=https://colab.research.google.com/notebooks/data_table.ipynb>data table notebook</a>'\n",
              "            + ' to learn more about interactive tables.';\n",
              "          element.innerHTML = '';\n",
              "          dataTable['output_type'] = 'display_data';\n",
              "          await google.colab.output.renderOutput(dataTable, element);\n",
              "          const docLink = document.createElement('div');\n",
              "          docLink.innerHTML = docLinkHtml;\n",
              "          element.appendChild(docLink);\n",
              "        }\n",
              "      </script>\n",
              "    </div>\n",
              "  </div>\n",
              "  "
            ],
            "text/plain": [
              "      x          y\n",
              "0    77  79.775152\n",
              "1    21  23.177279\n",
              "2    22  25.609262\n",
              "3    20  17.857388\n",
              "4    36  41.849864\n",
              "..   ..        ...\n",
              "295  71  68.545888\n",
              "296  46  47.334876\n",
              "297  55  54.090637\n",
              "298  62  63.297171\n",
              "299  47  52.459467\n",
              "\n",
              "[300 rows x 2 columns]"
            ]
          },
          "metadata": {},
          "execution_count": 27
        }
      ]
    },
    {
      "cell_type": "code",
      "source": [
        "#change dataframe to numpy array\n",
        "x=df.iloc[:,0:1].values\n",
        "y=df.iloc[:,1:2].values\n",
        "\n",
        "x_train,x_test,y_train,y_test= train_test_split(x,y,test_size=0.15, random_state=1)\n",
        "x_train.shape"
      ],
      "metadata": {
        "colab": {
          "base_uri": "https://localhost:8080/"
        },
        "id": "kfy_l49oX3PI",
        "outputId": "51f50d7a-1548-42da-daf2-824a9dc06b99"
      },
      "execution_count": 28,
      "outputs": [
        {
          "output_type": "execute_result",
          "data": {
            "text/plain": [
              "(255, 1)"
            ]
          },
          "metadata": {},
          "execution_count": 28
        }
      ]
    },
    {
      "cell_type": "code",
      "source": [
        "model= Sequential()\n",
        "model.add(Dense(200,input_dim=1,activation='relu'))\n",
        "model.add(Dense(200,input_dim=200,activation='relu'))\n",
        "model.add(Dense(200,input_dim=200,activation='relu'))\n",
        "model.add(Dense(1,input_dim=200,activation='linear'))"
      ],
      "metadata": {
        "id": "0x5vkgZ_YGfQ"
      },
      "execution_count": 29,
      "outputs": []
    },
    {
      "cell_type": "code",
      "source": [
        "opt=keras.optimizer_v2.adam.Adam(lr=0.001, beta_1=0.9, beta_2=0.999, amsgrad=False)\n",
        "model.compile(loss='mean_squared_error', optimizer= opt, metrics=['mse'])\n",
        "model.summary()"
      ],
      "metadata": {
        "colab": {
          "base_uri": "https://localhost:8080/"
        },
        "id": "-cyNoPdlYScW",
        "outputId": "6b8beb8a-1938-4573-e847-d82a312aff40"
      },
      "execution_count": 30,
      "outputs": [
        {
          "output_type": "stream",
          "name": "stdout",
          "text": [
            "Model: \"sequential_1\"\n",
            "_________________________________________________________________\n",
            " Layer (type)                Output Shape              Param #   \n",
            "=================================================================\n",
            " dense_2 (Dense)             (None, 200)               400       \n",
            "                                                                 \n",
            " dense_3 (Dense)             (None, 200)               40200     \n",
            "                                                                 \n",
            " dense_4 (Dense)             (None, 200)               40200     \n",
            "                                                                 \n",
            " dense_5 (Dense)             (None, 1)                 201       \n",
            "                                                                 \n",
            "=================================================================\n",
            "Total params: 81,001\n",
            "Trainable params: 81,001\n",
            "Non-trainable params: 0\n",
            "_________________________________________________________________\n"
          ]
        },
        {
          "output_type": "stream",
          "name": "stderr",
          "text": [
            "/usr/local/lib/python3.7/dist-packages/keras/optimizer_v2/adam.py:105: UserWarning: The `lr` argument is deprecated, use `learning_rate` instead.\n",
            "  super(Adam, self).__init__(name, **kwargs)\n"
          ]
        }
      ]
    },
    {
      "cell_type": "code",
      "source": [
        "training=model.fit(x_train, y_train, epochs=50, batch_size=32, validation_split=0.15, validation_data=None, verbose=1)"
      ],
      "metadata": {
        "colab": {
          "base_uri": "https://localhost:8080/"
        },
        "id": "Nui7TdNgYXYF",
        "outputId": "f9852c1e-6381-4e39-bae9-cbc038289043"
      },
      "execution_count": 31,
      "outputs": [
        {
          "output_type": "stream",
          "name": "stdout",
          "text": [
            "Epoch 1/50\n",
            "7/7 [==============================] - 1s 56ms/step - loss: 1828.4962 - mse: 1828.4962 - val_loss: 388.7861 - val_mse: 388.7861\n",
            "Epoch 2/50\n",
            "7/7 [==============================] - 0s 7ms/step - loss: 128.9636 - mse: 128.9636 - val_loss: 398.7306 - val_mse: 398.7306\n",
            "Epoch 3/50\n",
            "7/7 [==============================] - 0s 7ms/step - loss: 181.0446 - mse: 181.0446 - val_loss: 12.3176 - val_mse: 12.3176\n",
            "Epoch 4/50\n",
            "7/7 [==============================] - 0s 7ms/step - loss: 45.8542 - mse: 45.8542 - val_loss: 70.1165 - val_mse: 70.1165\n",
            "Epoch 5/50\n",
            "7/7 [==============================] - 0s 7ms/step - loss: 33.8472 - mse: 33.8472 - val_loss: 12.0064 - val_mse: 12.0064\n",
            "Epoch 6/50\n",
            "7/7 [==============================] - 0s 8ms/step - loss: 16.0378 - mse: 16.0378 - val_loss: 15.8922 - val_mse: 15.8922\n",
            "Epoch 7/50\n",
            "7/7 [==============================] - 0s 7ms/step - loss: 12.7613 - mse: 12.7613 - val_loss: 9.7700 - val_mse: 9.7700\n",
            "Epoch 8/50\n",
            "7/7 [==============================] - 0s 7ms/step - loss: 11.3680 - mse: 11.3680 - val_loss: 16.4742 - val_mse: 16.4742\n",
            "Epoch 9/50\n",
            "7/7 [==============================] - 0s 8ms/step - loss: 10.3615 - mse: 10.3615 - val_loss: 9.5801 - val_mse: 9.5801\n",
            "Epoch 10/50\n",
            "7/7 [==============================] - 0s 8ms/step - loss: 10.3493 - mse: 10.3493 - val_loss: 12.0228 - val_mse: 12.0228\n",
            "Epoch 11/50\n",
            "7/7 [==============================] - 0s 9ms/step - loss: 9.6096 - mse: 9.6096 - val_loss: 9.4258 - val_mse: 9.4258\n",
            "Epoch 12/50\n",
            "7/7 [==============================] - 0s 7ms/step - loss: 9.6182 - mse: 9.6182 - val_loss: 10.2291 - val_mse: 10.2291\n",
            "Epoch 13/50\n",
            "7/7 [==============================] - 0s 7ms/step - loss: 9.7086 - mse: 9.7086 - val_loss: 10.0696 - val_mse: 10.0696\n",
            "Epoch 14/50\n",
            "7/7 [==============================] - 0s 8ms/step - loss: 9.4284 - mse: 9.4284 - val_loss: 9.7554 - val_mse: 9.7554\n",
            "Epoch 15/50\n",
            "7/7 [==============================] - 0s 7ms/step - loss: 9.5212 - mse: 9.5212 - val_loss: 10.5819 - val_mse: 10.5819\n",
            "Epoch 16/50\n",
            "7/7 [==============================] - 0s 7ms/step - loss: 9.7515 - mse: 9.7515 - val_loss: 9.9295 - val_mse: 9.9295\n",
            "Epoch 17/50\n",
            "7/7 [==============================] - 0s 7ms/step - loss: 9.5821 - mse: 9.5821 - val_loss: 10.1555 - val_mse: 10.1555\n",
            "Epoch 18/50\n",
            "7/7 [==============================] - 0s 8ms/step - loss: 9.4412 - mse: 9.4412 - val_loss: 10.0701 - val_mse: 10.0701\n",
            "Epoch 19/50\n",
            "7/7 [==============================] - 0s 7ms/step - loss: 9.6704 - mse: 9.6704 - val_loss: 10.3956 - val_mse: 10.3956\n",
            "Epoch 20/50\n",
            "7/7 [==============================] - 0s 8ms/step - loss: 10.0982 - mse: 10.0982 - val_loss: 9.4292 - val_mse: 9.4292\n",
            "Epoch 21/50\n",
            "7/7 [==============================] - 0s 8ms/step - loss: 9.6958 - mse: 9.6958 - val_loss: 10.2230 - val_mse: 10.2230\n",
            "Epoch 22/50\n",
            "7/7 [==============================] - 0s 7ms/step - loss: 9.6846 - mse: 9.6846 - val_loss: 9.8454 - val_mse: 9.8454\n",
            "Epoch 23/50\n",
            "7/7 [==============================] - 0s 8ms/step - loss: 9.4234 - mse: 9.4234 - val_loss: 11.5276 - val_mse: 11.5276\n",
            "Epoch 24/50\n",
            "7/7 [==============================] - 0s 7ms/step - loss: 9.7623 - mse: 9.7623 - val_loss: 9.5722 - val_mse: 9.5722\n",
            "Epoch 25/50\n",
            "7/7 [==============================] - 0s 8ms/step - loss: 9.4719 - mse: 9.4719 - val_loss: 9.8493 - val_mse: 9.8493\n",
            "Epoch 26/50\n",
            "7/7 [==============================] - 0s 8ms/step - loss: 9.3913 - mse: 9.3913 - val_loss: 10.0482 - val_mse: 10.0482\n",
            "Epoch 27/50\n",
            "7/7 [==============================] - 0s 8ms/step - loss: 9.4706 - mse: 9.4706 - val_loss: 10.3148 - val_mse: 10.3148\n",
            "Epoch 28/50\n",
            "7/7 [==============================] - 0s 7ms/step - loss: 9.4659 - mse: 9.4659 - val_loss: 9.6448 - val_mse: 9.6448\n",
            "Epoch 29/50\n",
            "7/7 [==============================] - 0s 12ms/step - loss: 9.3496 - mse: 9.3496 - val_loss: 10.2451 - val_mse: 10.2451\n",
            "Epoch 30/50\n",
            "7/7 [==============================] - 0s 7ms/step - loss: 9.6406 - mse: 9.6406 - val_loss: 10.6902 - val_mse: 10.6902\n",
            "Epoch 31/50\n",
            "7/7 [==============================] - 0s 9ms/step - loss: 9.4491 - mse: 9.4491 - val_loss: 9.6866 - val_mse: 9.6866\n",
            "Epoch 32/50\n",
            "7/7 [==============================] - 0s 7ms/step - loss: 9.6177 - mse: 9.6177 - val_loss: 12.4288 - val_mse: 12.4288\n",
            "Epoch 33/50\n",
            "7/7 [==============================] - 0s 7ms/step - loss: 9.5027 - mse: 9.5027 - val_loss: 9.3545 - val_mse: 9.3545\n",
            "Epoch 34/50\n",
            "7/7 [==============================] - 0s 8ms/step - loss: 9.5934 - mse: 9.5934 - val_loss: 10.5953 - val_mse: 10.5953\n",
            "Epoch 35/50\n",
            "7/7 [==============================] - 0s 8ms/step - loss: 9.5256 - mse: 9.5256 - val_loss: 10.3552 - val_mse: 10.3552\n",
            "Epoch 36/50\n",
            "7/7 [==============================] - 0s 7ms/step - loss: 9.3439 - mse: 9.3439 - val_loss: 10.2427 - val_mse: 10.2427\n",
            "Epoch 37/50\n",
            "7/7 [==============================] - 0s 8ms/step - loss: 9.3631 - mse: 9.3631 - val_loss: 10.1129 - val_mse: 10.1129\n",
            "Epoch 38/50\n",
            "7/7 [==============================] - 0s 8ms/step - loss: 9.5956 - mse: 9.5956 - val_loss: 9.1974 - val_mse: 9.1974\n",
            "Epoch 39/50\n",
            "7/7 [==============================] - 0s 8ms/step - loss: 9.3294 - mse: 9.3294 - val_loss: 11.5452 - val_mse: 11.5452\n",
            "Epoch 40/50\n",
            "7/7 [==============================] - 0s 7ms/step - loss: 9.9699 - mse: 9.9699 - val_loss: 9.5579 - val_mse: 9.5579\n",
            "Epoch 41/50\n",
            "7/7 [==============================] - 0s 7ms/step - loss: 10.1427 - mse: 10.1427 - val_loss: 11.9898 - val_mse: 11.9898\n",
            "Epoch 42/50\n",
            "7/7 [==============================] - 0s 8ms/step - loss: 9.6284 - mse: 9.6284 - val_loss: 9.7149 - val_mse: 9.7149\n",
            "Epoch 43/50\n",
            "7/7 [==============================] - 0s 7ms/step - loss: 9.4868 - mse: 9.4868 - val_loss: 9.2367 - val_mse: 9.2367\n",
            "Epoch 44/50\n",
            "7/7 [==============================] - 0s 8ms/step - loss: 9.7161 - mse: 9.7161 - val_loss: 9.5680 - val_mse: 9.5680\n",
            "Epoch 45/50\n",
            "7/7 [==============================] - 0s 8ms/step - loss: 9.4515 - mse: 9.4515 - val_loss: 9.6369 - val_mse: 9.6369\n",
            "Epoch 46/50\n",
            "7/7 [==============================] - 0s 10ms/step - loss: 9.3077 - mse: 9.3077 - val_loss: 10.7946 - val_mse: 10.7946\n",
            "Epoch 47/50\n",
            "7/7 [==============================] - 0s 8ms/step - loss: 9.3299 - mse: 9.3299 - val_loss: 9.8642 - val_mse: 9.8642\n",
            "Epoch 48/50\n",
            "7/7 [==============================] - 0s 8ms/step - loss: 9.3667 - mse: 9.3667 - val_loss: 9.6592 - val_mse: 9.6592\n",
            "Epoch 49/50\n",
            "7/7 [==============================] - 0s 8ms/step - loss: 9.2513 - mse: 9.2513 - val_loss: 9.8573 - val_mse: 9.8573\n",
            "Epoch 50/50\n",
            "7/7 [==============================] - 0s 7ms/step - loss: 9.3144 - mse: 9.3144 - val_loss: 9.9047 - val_mse: 9.9047\n"
          ]
        }
      ]
    },
    {
      "cell_type": "code",
      "source": [
        "keras.backend.clear_session()"
      ],
      "metadata": {
        "id": "S2mjDIUMYif_"
      },
      "execution_count": 32,
      "outputs": []
    },
    {
      "cell_type": "code",
      "source": [
        "pred=model.predict(x_test)\n",
        "pred"
      ],
      "metadata": {
        "colab": {
          "base_uri": "https://localhost:8080/"
        },
        "id": "EqUzy9ebbHNG",
        "outputId": "1680b05d-6e16-498b-f369-0fe00737c01e"
      },
      "execution_count": 33,
      "outputs": [
        {
          "output_type": "execute_result",
          "data": {
            "text/plain": [
              "array([[ 46.38145   ],\n",
              "       [ 11.972009  ],\n",
              "       [  3.8604093 ],\n",
              "       [ 44.357372  ],\n",
              "       [ -0.36768782],\n",
              "       [ 20.068354  ],\n",
              "       [ 58.52597   ],\n",
              "       [ 53.46575   ],\n",
              "       [  5.8955946 ],\n",
              "       [ 54.477795  ],\n",
              "       [ 76.74272   ],\n",
              "       [ 60.550045  ],\n",
              "       [ 47.393497  ],\n",
              "       [ 69.65843   ],\n",
              "       [ 99.00766   ],\n",
              "       [ 52.453705  ],\n",
              "       [ 19.056307  ],\n",
              "       [ 66.6223    ],\n",
              "       [  6.9103584 ],\n",
              "       [ 27.15265   ],\n",
              "       [ 21.080397  ],\n",
              "       [ 41.321243  ],\n",
              "       [ 95.97153   ],\n",
              "       [ 96.98358   ],\n",
              "       [ 11.972009  ],\n",
              "       [ 87.8752    ],\n",
              "       [ 55.489838  ],\n",
              "       [ 67.63434   ],\n",
              "       [ -0.36768782],\n",
              "       [ 37.27307   ],\n",
              "       [ 53.46575   ],\n",
              "       [ 90.91132   ],\n",
              "       [ 13.996096  ],\n",
              "       [ 57.51392   ],\n",
              "       [ 88.88722   ],\n",
              "       [ 59.538013  ],\n",
              "       [ 13.996096  ],\n",
              "       [ 49.417587  ],\n",
              "       [ 68.646385  ],\n",
              "       [ 95.97153   ],\n",
              "       [101.03174   ],\n",
              "       [ 13.996096  ],\n",
              "       [ 73.70659   ],\n",
              "       [ 36.26103   ],\n",
              "       [ 46.38145   ]], dtype=float32)"
            ]
          },
          "metadata": {},
          "execution_count": 33
        }
      ]
    },
    {
      "cell_type": "code",
      "source": [
        "pred.shape"
      ],
      "metadata": {
        "colab": {
          "base_uri": "https://localhost:8080/"
        },
        "id": "D-FMGcEZbQo2",
        "outputId": "6983e250-87e9-474d-81c9-04341e67b151"
      },
      "execution_count": 34,
      "outputs": [
        {
          "output_type": "execute_result",
          "data": {
            "text/plain": [
              "(45, 1)"
            ]
          },
          "metadata": {},
          "execution_count": 34
        }
      ]
    },
    {
      "cell_type": "code",
      "source": [
        "import matplotlib.pyplot as plt\n",
        "plt.plot(pred)"
      ],
      "metadata": {
        "colab": {
          "base_uri": "https://localhost:8080/",
          "height": 282
        },
        "id": "QMZmc8LIbo-m",
        "outputId": "902d194d-a996-4515-a0fd-2f8286b9ebc9"
      },
      "execution_count": 35,
      "outputs": [
        {
          "output_type": "execute_result",
          "data": {
            "text/plain": [
              "[<matplotlib.lines.Line2D at 0x7f30fd9435d0>]"
            ]
          },
          "metadata": {},
          "execution_count": 35
        },
        {
          "output_type": "display_data",
          "data": {
            "image/png": "[encoded data removed]",
            "text/plain": [
              "<Figure size 432x288 with 1 Axes>"
            ]
          },
          "metadata": {
            "needs_background": "light"
          }
        }
      ]
    }
  ]
}